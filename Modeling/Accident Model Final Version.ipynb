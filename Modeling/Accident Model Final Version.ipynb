{
 "cells": [
  {
   "cell_type": "markdown",
   "metadata": {},
   "source": [
    "This file contains all the functions & results we need"
   ]
  },
  {
   "cell_type": "code",
   "execution_count": 1,
   "metadata": {},
   "outputs": [],
   "source": [
    "# import packages\n",
    "import pandas as pd\n",
    "from numpy import nan\n",
    "import math\n",
    "import numpy as np\n",
    "\n",
    "from numpy import loadtxt\n",
    "from xgboost import XGBClassifier\n",
    "from xgboost import plot_importance\n",
    "from matplotlib import pyplot\n",
    "import matplotlib.pyplot as plt\n",
    "from sklearn.preprocessing import StandardScaler\n",
    "\n",
    "from sklearn.model_selection import train_test_split\n",
    "from sklearn.linear_model import LinearRegression\n",
    "from sklearn.linear_model import Lasso, Ridge, LinearRegression\n",
    "from sklearn.tree import DecisionTreeClassifier\n",
    "from sklearn.metrics import accuracy_score\n",
    "from sklearn.neighbors import KNeighborsClassifier\n",
    "from sklearn.ensemble import RandomForestClassifier\n",
    "from sklearn import svm\n",
    "from sklearn import svm, tree, linear_model, neighbors, naive_bayes, ensemble\n",
    "from imblearn.over_sampling import SMOTE\n",
    "\n",
    "from sklearn import metrics\n",
    "from sklearn.model_selection import KFold\n",
    "from sklearn.metrics import classification_report\n",
    "from sklearn.metrics import confusion_matrix\n",
    "from sklearn.model_selection import cross_val_score\n",
    "from sklearn.metrics import confusion_matrix,precision_score,auc,roc_curve"
   ]
  },
  {
   "cell_type": "code",
   "execution_count": 2,
   "metadata": {},
   "outputs": [],
   "source": [
    "def null_modifier(df):\n",
    "    '''\n",
    "    Changes the values which stand for of 'Not_reported', 'Unknown, 'None' to NA\n",
    "    Param:\n",
    "        df: the dataframe we take care of\n",
    "    Returns:\n",
    "        dataframe: a new dataframe with the replaced value\n",
    "    '''\n",
    "    \n",
    "    # read the features\n",
    "    features = pd.read_excel('Features_missing.xlsx')\n",
    "    data = df.copy()\n",
    "    \n",
    "    # Check the corresponding code of \"not_reported\" for each feature\n",
    "    Not_reported = features[features['Not_reported'].notnull()].reset_index(drop=True)\n",
    "    Not_reported = Not_reported.loc[:,['Feature','Not_reported']]\n",
    "    \n",
    "    # Check the corresponding code of \"Unknown\" for each feature\n",
    "    Unknown = features[features['Unknown'].notnull()].reset_index(drop=True)\n",
    "    Unknown = Unknown.loc[:,['Feature','Unknown']]\n",
    "    \n",
    "    # Check the corresponding code of \"None\" for each feature\n",
    "    none = features[features['None'].notnull()].reset_index(drop=True)\n",
    "    none = none.loc[:,['Feature','None']]\n",
    "\n",
    "    # Check the corresponding code of \"Not_applicable\" for each feature\n",
    "    Not_Applicable = features[features['Not_Applicable'].notnull()].reset_index(drop=True)\n",
    "    Not_Applicable = Not_Applicable.loc[:,['Feature','Not_Applicable']]\n",
    "    \n",
    "    # change all the not reported number in the dataframe to NA\n",
    "    for x in range(Not_reported.shape[0]):\n",
    "        feature = Not_reported.iloc[x,0]\n",
    "        Not_reported_number = Not_reported.iloc[x,1]\n",
    "        if feature in data.columns:\n",
    "            data[feature] = data[feature].replace(Not_reported_number, np.nan)\n",
    "    \n",
    "    # change all the Unknown number to NA\n",
    "    for x in range(Unknown.shape[0]):\n",
    "        feature = Unknown.iloc[x,0]\n",
    "        Unknown_number = Unknown.iloc[x,1]\n",
    "        if feature in data.columns:\n",
    "\n",
    "            data[feature] = data[feature]. replace(Unknown_number, np.nan)\n",
    "    \n",
    "    #### change all the None number to NA\n",
    "    for x in range(none.shape[0]):\n",
    "        feature = none.iloc[x,0]\n",
    "        none_number = none.iloc[x,1]\n",
    "        if feature in data.columns:\n",
    "            data[feature] = data[feature]. replace(none_number, np.nan)\n",
    "\n",
    "    #### change all the Not Applicable number to NA\n",
    "    for x in range(Not_Applicable.shape[0]):\n",
    "        feature = Not_Applicable.iloc[x,0]\n",
    "        Not_Applicable_number = Not_Applicable.iloc[x,1]\n",
    "        if feature in data.columns:\n",
    "            data[feature] = data[feature]. replace(Not_Applicable_number, np.nan)\n",
    "    \n",
    "    return data"
   ]
  },
  {
   "cell_type": "code",
   "execution_count": 3,
   "metadata": {},
   "outputs": [],
   "source": [
    "def drop_missing_columns(df):\n",
    "    '''\n",
    "    Drops the columns that have too many missing values\n",
    "    threshold: 0.8\n",
    "    \n",
    "    Params: \n",
    "        df: the dataframe we need to process\n",
    "    Returns:\n",
    "        dataframe: a new dataframe without features containing too many missing values\n",
    "    '''\n",
    "    frac = len(df) * 0.8\n",
    "    data = df.dropna(thresh=frac, axis = 1)\n",
    "    data = data.drop('MDAREAS', axis = 1)\n",
    "    return data"
   ]
  },
  {
   "cell_type": "code",
   "execution_count": 4,
   "metadata": {},
   "outputs": [],
   "source": [
    "def items (df, c):\n",
    "    '''\n",
    "    function to get the item list of a column which does not include nan\n",
    "    Params: \n",
    "        df: the dataframe the column is in\n",
    "        c: the column we get the item list from\n",
    "    Returns:\n",
    "        list: a list contains unique items of column c\n",
    "    '''\n",
    "\n",
    "    vals = df[c].unique().tolist()\n",
    "    # if it's numerical (numbers)\n",
    "    if np.issubdtype(df[c].dtype, np.number) == True:\n",
    "        vals = [x for x in vals if not math.isnan(x)]\n",
    "        vals.sort()\n",
    "        return vals\n",
    "    else:\n",
    "    # if it's str\n",
    "        vals = [x for x in vals if x != np.nan]\n",
    "        return vals"
   ]
  },
  {
   "cell_type": "code",
   "execution_count": 5,
   "metadata": {},
   "outputs": [],
   "source": [
    "def inputnumerical ():\n",
    "    '''\n",
    "    ask users for the list of columns which don't need to be encoded. e.g. numerical columns\n",
    "    Returns:\n",
    "        list\n",
    "    '''\n",
    "    lst = [] \n",
    "    lst = [x for x in input(\"Enter columns that don't need to encode (eg: AAA BBB): \").split()] \n",
    "    return lst"
   ]
  },
  {
   "cell_type": "code",
   "execution_count": 6,
   "metadata": {},
   "outputs": [],
   "source": [
    "def encoding(data):\n",
    "    '''\n",
    "    encodes the categorical columns to numbers in the numerical order\n",
    "    e.g.: if the original column contains categories 1, 5, 9, 10,\n",
    "        we encode it as 0, 1, 2, 3 correspondingly\n",
    "    \n",
    "    Param:\n",
    "        df: the dataframe that we need to encode\n",
    "    Returns:\n",
    "        dataframe: the dataframe that we encoded\n",
    "    '''\n",
    "\n",
    "    # ask user which (numerical) columns should be skipped in this process\n",
    "    df = data.copy()\n",
    "    num_cols = inputnumerical()\n",
    "    print('the number of column that dont need to encoded is', len(num_cols))\n",
    "    \n",
    "    # iterate columns\n",
    "    for column in df:\n",
    "        # check if the column is numerical\n",
    "        if column in num_cols:\n",
    "            continue\n",
    "        # encoding\n",
    "        else: \n",
    "            # get the length of the list of unique values\n",
    "            unique = items(df, column)\n",
    "            len_unique = len(unique)\n",
    "            # make a new list contains 1,2,3,4,5...\n",
    "            codes = list(range(0, len_unique))\n",
    "            \n",
    "            # using for loop to replace the value\n",
    "            for i in range(0,len_unique):\n",
    "                df[column].replace(to_replace = unique[i], value = codes[i], inplace = True)\n",
    "    return df"
   ]
  },
  {
   "cell_type": "markdown",
   "metadata": {},
   "source": [
    "I. personal level (dependent variable: INJSEV_IM)"
   ]
  },
  {
   "cell_type": "code",
   "execution_count": 7,
   "metadata": {},
   "outputs": [
    {
     "name": "stderr",
     "output_type": "stream",
     "text": [
      "C:\\Users\\ZeWu\\Anaconda3\\lib\\site-packages\\IPython\\core\\interactiveshell.py:3071: DtypeWarning: Columns (126,127,169) have mixed types.Specify dtype option on import or set low_memory=False.\n",
      "  has_raised = await self.run_ast_nodes(code_ast.body, cell_name,\n"
     ]
    },
    {
     "data": {
      "text/html": [
       "<div>\n",
       "<style scoped>\n",
       "    .dataframe tbody tr th:only-of-type {\n",
       "        vertical-align: middle;\n",
       "    }\n",
       "\n",
       "    .dataframe tbody tr th {\n",
       "        vertical-align: top;\n",
       "    }\n",
       "\n",
       "    .dataframe thead th {\n",
       "        text-align: right;\n",
       "    }\n",
       "</style>\n",
       "<table border=\"1\" class=\"dataframe\">\n",
       "  <thead>\n",
       "    <tr style=\"text-align: right;\">\n",
       "      <th></th>\n",
       "      <th>CASENUM</th>\n",
       "      <th>REGION</th>\n",
       "      <th>PSU</th>\n",
       "      <th>PJ</th>\n",
       "      <th>PSU_VAR</th>\n",
       "      <th>URBANICITY</th>\n",
       "      <th>STRATUM</th>\n",
       "      <th>VE_TOTAL</th>\n",
       "      <th>VE_FORMS</th>\n",
       "      <th>PVH_INVL</th>\n",
       "      <th>...</th>\n",
       "      <th>PTRLR1VIN</th>\n",
       "      <th>PTRLR2VIN</th>\n",
       "      <th>PTRLR3VIN</th>\n",
       "      <th>MDAREAS</th>\n",
       "      <th>MFACTOR</th>\n",
       "      <th>MDRDSTRD</th>\n",
       "      <th>MDRMANAV</th>\n",
       "      <th>DRIMPAIR</th>\n",
       "      <th>MVIOLATN</th>\n",
       "      <th>MVISOBSC</th>\n",
       "    </tr>\n",
       "  </thead>\n",
       "  <tbody>\n",
       "    <tr>\n",
       "      <th>0</th>\n",
       "      <td>201800381338</td>\n",
       "      <td>4.0</td>\n",
       "      <td>56.0</td>\n",
       "      <td>208.0</td>\n",
       "      <td>208.0</td>\n",
       "      <td>1.0</td>\n",
       "      <td>9.0</td>\n",
       "      <td>4.0</td>\n",
       "      <td>4.0</td>\n",
       "      <td>0.0</td>\n",
       "      <td>...</td>\n",
       "      <td>NaN</td>\n",
       "      <td>NaN</td>\n",
       "      <td>NaN</td>\n",
       "      <td>12</td>\n",
       "      <td>0.0</td>\n",
       "      <td>0.0</td>\n",
       "      <td>4.0</td>\n",
       "      <td>0.0</td>\n",
       "      <td>0.0</td>\n",
       "      <td>0.0</td>\n",
       "    </tr>\n",
       "    <tr>\n",
       "      <th>1</th>\n",
       "      <td>201800381338</td>\n",
       "      <td>4.0</td>\n",
       "      <td>56.0</td>\n",
       "      <td>208.0</td>\n",
       "      <td>208.0</td>\n",
       "      <td>1.0</td>\n",
       "      <td>9.0</td>\n",
       "      <td>4.0</td>\n",
       "      <td>4.0</td>\n",
       "      <td>0.0</td>\n",
       "      <td>...</td>\n",
       "      <td>NaN</td>\n",
       "      <td>NaN</td>\n",
       "      <td>NaN</td>\n",
       "      <td>6,12</td>\n",
       "      <td>0.0</td>\n",
       "      <td>0.0</td>\n",
       "      <td>4.0</td>\n",
       "      <td>0.0</td>\n",
       "      <td>0.0</td>\n",
       "      <td>0.0</td>\n",
       "    </tr>\n",
       "    <tr>\n",
       "      <th>2</th>\n",
       "      <td>201800381338</td>\n",
       "      <td>4.0</td>\n",
       "      <td>56.0</td>\n",
       "      <td>208.0</td>\n",
       "      <td>208.0</td>\n",
       "      <td>1.0</td>\n",
       "      <td>9.0</td>\n",
       "      <td>4.0</td>\n",
       "      <td>4.0</td>\n",
       "      <td>0.0</td>\n",
       "      <td>...</td>\n",
       "      <td>NaN</td>\n",
       "      <td>NaN</td>\n",
       "      <td>NaN</td>\n",
       "      <td>6,12</td>\n",
       "      <td>0.0</td>\n",
       "      <td>0.0</td>\n",
       "      <td>0.0</td>\n",
       "      <td>0.0</td>\n",
       "      <td>0.0</td>\n",
       "      <td>0.0</td>\n",
       "    </tr>\n",
       "    <tr>\n",
       "      <th>3</th>\n",
       "      <td>201800381338</td>\n",
       "      <td>4.0</td>\n",
       "      <td>56.0</td>\n",
       "      <td>208.0</td>\n",
       "      <td>208.0</td>\n",
       "      <td>1.0</td>\n",
       "      <td>9.0</td>\n",
       "      <td>4.0</td>\n",
       "      <td>4.0</td>\n",
       "      <td>0.0</td>\n",
       "      <td>...</td>\n",
       "      <td>NaN</td>\n",
       "      <td>NaN</td>\n",
       "      <td>NaN</td>\n",
       "      <td>6</td>\n",
       "      <td>0.0</td>\n",
       "      <td>0.0</td>\n",
       "      <td>0.0</td>\n",
       "      <td>0.0</td>\n",
       "      <td>0.0</td>\n",
       "      <td>0.0</td>\n",
       "    </tr>\n",
       "    <tr>\n",
       "      <th>4</th>\n",
       "      <td>201800381366</td>\n",
       "      <td>4.0</td>\n",
       "      <td>56.0</td>\n",
       "      <td>214.0</td>\n",
       "      <td>214.0</td>\n",
       "      <td>1.0</td>\n",
       "      <td>7.0</td>\n",
       "      <td>3.0</td>\n",
       "      <td>3.0</td>\n",
       "      <td>0.0</td>\n",
       "      <td>...</td>\n",
       "      <td>NaN</td>\n",
       "      <td>NaN</td>\n",
       "      <td>NaN</td>\n",
       "      <td>1,2,10,11,12</td>\n",
       "      <td>0.0</td>\n",
       "      <td>0.0</td>\n",
       "      <td>98.0</td>\n",
       "      <td>0.0</td>\n",
       "      <td>0.0</td>\n",
       "      <td>0.0</td>\n",
       "    </tr>\n",
       "  </tbody>\n",
       "</table>\n",
       "<p>5 rows × 226 columns</p>\n",
       "</div>"
      ],
      "text/plain": [
       "        CASENUM  REGION   PSU     PJ  PSU_VAR  URBANICITY  STRATUM  VE_TOTAL  \\\n",
       "0  201800381338     4.0  56.0  208.0    208.0         1.0      9.0       4.0   \n",
       "1  201800381338     4.0  56.0  208.0    208.0         1.0      9.0       4.0   \n",
       "2  201800381338     4.0  56.0  208.0    208.0         1.0      9.0       4.0   \n",
       "3  201800381338     4.0  56.0  208.0    208.0         1.0      9.0       4.0   \n",
       "4  201800381366     4.0  56.0  214.0    214.0         1.0      7.0       3.0   \n",
       "\n",
       "   VE_FORMS  PVH_INVL  ...  PTRLR1VIN  PTRLR2VIN  PTRLR3VIN       MDAREAS  \\\n",
       "0       4.0       0.0  ...        NaN        NaN        NaN            12   \n",
       "1       4.0       0.0  ...        NaN        NaN        NaN          6,12   \n",
       "2       4.0       0.0  ...        NaN        NaN        NaN          6,12   \n",
       "3       4.0       0.0  ...        NaN        NaN        NaN             6   \n",
       "4       3.0       0.0  ...        NaN        NaN        NaN  1,2,10,11,12   \n",
       "\n",
       "   MFACTOR  MDRDSTRD  MDRMANAV  DRIMPAIR  MVIOLATN  MVISOBSC  \n",
       "0      0.0       0.0       4.0       0.0       0.0       0.0  \n",
       "1      0.0       0.0       4.0       0.0       0.0       0.0  \n",
       "2      0.0       0.0       0.0       0.0       0.0       0.0  \n",
       "3      0.0       0.0       0.0       0.0       0.0       0.0  \n",
       "4      0.0       0.0      98.0       0.0       0.0       0.0  \n",
       "\n",
       "[5 rows x 226 columns]"
      ]
     },
     "execution_count": 7,
     "metadata": {},
     "output_type": "execute_result"
    }
   ],
   "source": [
    "p_data = pd.read_csv('person_level_full_data.csv',index_col=0)\n",
    "p_data.head()"
   ]
  },
  {
   "cell_type": "code",
   "execution_count": 8,
   "metadata": {
    "tags": []
   },
   "outputs": [
    {
     "name": "stdout",
     "output_type": "stream",
     "text": [
      "<class 'pandas.core.frame.DataFrame'>\n",
      "Int64Index: 134420 entries, 0 to 134419\n",
      "Columns: 226 entries, CASENUM to MVISOBSC\n",
      "dtypes: float64(218), int64(1), object(7)\n",
      "memory usage: 232.8+ MB\n"
     ]
    }
   ],
   "source": [
    "p_data.info()"
   ]
  },
  {
   "cell_type": "markdown",
   "metadata": {},
   "source": [
    "    1. pre-processing"
   ]
  },
  {
   "cell_type": "code",
   "execution_count": 9,
   "metadata": {
    "tags": []
   },
   "outputs": [
    {
     "name": "stdout",
     "output_type": "stream",
     "text": [
      "Enter columns that don't need to encode (eg: AAA BBB): CASENUM PJ STARA TUM PSUSTRAT VEH_NO PER_NO STR_VEH MAKE MAK_MOD MODEL DR_ZIP VIN MCARR_I2 MCARR_ID TRLR1VIN TRLR2VIN TRLR3VIN PMODEL PMAK_MOD PVIN PMCARR_I1 PMCARR_I2 PMCARR_ID PHAZ_ID PTRLR1VIN PTRLR2VIN PTRLR3VIN HAZ_ID VE_TOTAL VE_FORMS PVH_INVL PERMVIT PERNOTMVIT NUM_INJ NUMINJ_IM WEIGHT AGE AGE_IM PBAGE NUMOCCS TRAV_SP MONTH YEAR DAY_WEEK HOUR MINUTE MOD_YEAR PMODYEAR PMONTH PHOUR PMINUTE\n",
      "the number of column that dont need to encoded is 52\n"
     ]
    }
   ],
   "source": [
    "# replace the 'Not_reported', 'Unknown, 'None' with NA \n",
    "p_data_dropped = null_modifier(p_data)\n",
    "# drop the columns have too many missing values\n",
    "p_data_dropped = drop_missing_columns(p_data_dropped)\n",
    "# encode\n",
    "p_data_dropped = encoding(p_data_dropped)\n",
    "#CASENUM PJ STARA TUM PSUSTRAT VEH_NO PER_NO STR_VEH MAKE MAK_MOD MODEL DR_ZIP VIN MCARR_I2 MCARR_ID TRLR1VIN TRLR2VIN TRLR3VIN PMODEL PMAK_MOD PVIN PMCARR_I1 PMCARR_I2 PMCARR_ID PHAZ_ID PTRLR1VIN PTRLR2VIN PTRLR3VIN HAZ_ID VE_TOTAL VE_FORMS PVH_INVL PERMVIT PERNOTMVIT NUM_INJ NUMINJ_IM WEIGHT AGE AGE_IM PBAGE NUMOCCS TRAV_SP MONTH YEAR DAY_WEEK HOUR MINUTE MOD_YEAR PMODYEAR PMONTH PHOUR PMINUTE"
   ]
  },
  {
   "cell_type": "code",
   "execution_count": 10,
   "metadata": {
    "tags": []
   },
   "outputs": [
    {
     "name": "stdout",
     "output_type": "stream",
     "text": [
      "<class 'pandas.core.frame.DataFrame'>\n",
      "RangeIndex: 62933 entries, 0 to 62932\n",
      "Columns: 103 entries, CASENUM to V_ALCH_IM\n",
      "dtypes: float64(99), int64(1), object(3)\n",
      "memory usage: 49.5+ MB\n"
     ]
    }
   ],
   "source": [
    "# list of repeated columns\n",
    "repeated_col = ['DAY_WEEK', 'HOUR', 'MINUTE', 'HARM_EV', 'MAN_COLL',\n",
    "               'RELJCT2', 'LGT_COND', 'MAX_SEV', 'NUM_INJ','ALCOHOL','SEX',\n",
    "               'INJ_SEV','EJECTION', 'SEAT_POS', 'AGE', 'HIT_RUN',\n",
    "               'BODY_TYP', 'MOD_YEAR', 'IMPACT1', 'M_HARM', 'P_CRASH1', 'MAX_VSEV',\n",
    "               'NUM_INJV', 'VEH_ALCH']\n",
    "\n",
    "# drop the repeated columns\n",
    "p_data_dropped = p_data_dropped.drop(repeated_col, axis=1)\n",
    "# drop the observations that have missing values\n",
    "p_data_dropped = p_data_dropped.dropna().reset_index(drop= True)\n",
    "p_data_dropped.info()"
   ]
  },
  {
   "cell_type": "code",
   "execution_count": 11,
   "metadata": {
    "tags": []
   },
   "outputs": [
    {
     "name": "stdout",
     "output_type": "stream",
     "text": [
      "MAXSEV_IM 0.6443326848818337\n",
      "HOSPITAL 0.708403678697839\n",
      "INJSEV_IM 1.0\n",
      "MXVSEV_IM 0.8949680694981879\n",
      "NUMINJ_IM 0.6291539704411218\n"
     ]
    }
   ],
   "source": [
    "# check the correlation\n",
    "for column in p_data_dropped.columns:\n",
    "    if column not in list(p_data_dropped.select_dtypes(include=['object']).columns):\n",
    "        corr = p_data_dropped['INJSEV_IM'].corr(p_data_dropped[column])\n",
    "        if corr > 0.5:\n",
    "            print(column, corr)"
   ]
  },
  {
   "cell_type": "code",
   "execution_count": 12,
   "metadata": {},
   "outputs": [],
   "source": [
    "# variables should be deleted \n",
    "#STRATUM,VE_TOTAL,VE_FORMS,PVH_INVL,PERNOTMVIT,NUM_INJ,HARM_EV,MAN_COLL,RELJCT1,RELJCT2,TYP_INT,WRK_ZONE,CF1,CF2,CF3,EVENT1_IM,MANCOL_IM,RELJCT1_IM,RELJCT2_IM\n",
    "#,NO_INJ_IM,PVE_FORMS,"
   ]
  },
  {
   "cell_type": "code",
   "execution_count": 13,
   "metadata": {},
   "outputs": [],
   "source": [
    "######################################################################\n",
    "######################## modeling ####################################\n",
    "######################################################################"
   ]
  },
  {
   "cell_type": "code",
   "execution_count": 14,
   "metadata": {},
   "outputs": [],
   "source": [
    "# define X and y\n",
    "# 'INJSEV_IM' is dependent variable\n",
    "y1 = p_data_dropped['INJSEV_IM']\n",
    "y1 = p_data_dropped['INJSEV_IM'].replace([2,3,4,5,6],1)\n",
    "# get object list\n",
    "object_list = list(p_data_dropped.select_dtypes(include=['object']).columns)\n",
    "# drop non-useful columns and the object columns\n",
    "x1 = p_data_dropped.drop(['CASENUM','DR_ZIP','MXVSEV_IM','MAXSEV_IM','HOSPITAL','NUMINJ_IM','INJSEV_IM','STRATUM','VE_TOTAL','VE_FORMS','PVH_INVL','PERNOTMVIT','TYP_INT','EVENT1_IM','MANCOL_IM','RELJCT1_IM','RELJCT2_IM'\n",
    ",'NO_INJ_IM'],axis = 1)\n",
    "x1 = x1.drop(object_list, axis=1)"
   ]
  },
  {
   "cell_type": "code",
   "execution_count": 15,
   "metadata": {},
   "outputs": [
    {
     "data": {
      "image/png": "[encoded data removed]",
      "text/plain": [
       "<Figure size 432x288 with 1 Axes>"
      ]
     },
     "metadata": {
      "needs_background": "light"
     },
     "output_type": "display_data"
    }
   ],
   "source": [
    "plt.hist(y1, 20,\n",
    "         density=True,\n",
    "         histtype='bar',\n",
    "         facecolor='b',\n",
    "         alpha=0.5)\n",
    "\n",
    "plt.show()"
   ]
  },
  {
   "cell_type": "code",
   "execution_count": 16,
   "metadata": {},
   "outputs": [],
   "source": [
    "#SMOTE -resampling\n",
    "X_resample, y_resample = SMOTE().fit_sample(x1, y1)"
   ]
  },
  {
   "cell_type": "code",
   "execution_count": 17,
   "metadata": {},
   "outputs": [
    {
     "data": {
      "text/plain": [
       "array([[ 1.76835066,  0.89471948, -0.97401839, ..., -0.22547499,\n",
       "        -0.57286122,  0.2152866 ],\n",
       "       [ 1.76835066,  0.89471948, -0.97401839, ..., -0.22547499,\n",
       "        -0.57286122,  0.2152866 ],\n",
       "       [ 1.76835066,  0.89471948, -0.97401839, ..., -0.22547499,\n",
       "        -0.78566448,  0.2152866 ],\n",
       "       ...,\n",
       "       [ 0.2917154 ,  0.12697717, -0.2562399 , ...,  1.43650599,\n",
       "         1.9807779 ,  0.2152866 ],\n",
       "       [ 0.2917154 ,  0.95019456, -0.80838032, ..., -0.22547499,\n",
       "        -0.78566448,  0.2152866 ],\n",
       "       [ 0.2917154 ,  1.48529048, -0.84079435, ..., -0.22547499,\n",
       "        -0.78566448,  0.2152866 ]])"
      ]
     },
     "execution_count": 17,
     "metadata": {},
     "output_type": "execute_result"
    }
   ],
   "source": [
    "#Normalized\n",
    "scaler = StandardScaler()\n",
    "scaler.fit(X_resample)\n",
    "scaler.transform(X_resample)"
   ]
  },
  {
   "cell_type": "code",
   "execution_count": 18,
   "metadata": {},
   "outputs": [
    {
     "data": {
      "text/plain": [
       "(90058, 82)"
      ]
     },
     "execution_count": 18,
     "metadata": {},
     "output_type": "execute_result"
    }
   ],
   "source": [
    "X_resample.shape"
   ]
  },
  {
   "cell_type": "code",
   "execution_count": 19,
   "metadata": {},
   "outputs": [],
   "source": [
    "X_train, X_test, y_train, y_test = train_test_split(X_resample, y_resample, test_size=0.3, random_state=42)"
   ]
  },
  {
   "cell_type": "markdown",
   "metadata": {},
   "source": [
    "Decision Tree"
   ]
  },
  {
   "cell_type": "code",
   "execution_count": 20,
   "metadata": {},
   "outputs": [],
   "source": [
    "dt_basic = DecisionTreeClassifier()\n",
    "y_predict = dt_basic.fit(X_train, y_train).predict(X_test)"
   ]
  },
  {
   "cell_type": "code",
   "execution_count": 22,
   "metadata": {},
   "outputs": [
    {
     "data": {
      "image/png": "[encoded data removed]",
      "text/plain": [
       "<Figure size 432x288 with 1 Axes>"
      ]
     },
     "metadata": {
      "needs_background": "light"
     },
     "output_type": "display_data"
    }
   ],
   "source": [
    "# Compute ROC curve and ROC area   \n",
    "y_pred_proba = dt_basic.predict_proba(X_test)[:,1]\n",
    "dtp_fpr, dtp_tpr, _ = metrics.roc_curve(y_test,  y_pred_proba)\n",
    "dtp_roc_auc = metrics.auc(dtp_fpr, dtp_tpr)\n",
    "\n",
    "\n",
    "# Plot of a ROC curve \n",
    "plt.figure()\n",
    "plt.plot(dtp_fpr, dtp_tpr, label='Person_Decision Tree ROC curve (area = %0.4f)' % dtp_roc_auc)\n",
    "plt.plot([0, 1], [0, 1], 'k--')\n",
    "plt.xlim([0.0, 1.00])\n",
    "plt.ylim([0.0, 1.05])\n",
    "plt.xlabel('False Positive Rate')\n",
    "plt.ylabel('True Positive Rate')\n",
    "plt.title('Receiver operating characteristic')\n",
    "plt.legend(loc=\"lower right\")\n",
    "plt.show()"
   ]
  },
  {
   "cell_type": "code",
   "execution_count": 23,
   "metadata": {},
   "outputs": [
    {
     "name": "stdout",
     "output_type": "stream",
     "text": [
      "Feature importance by decision tree\n"
     ]
    },
    {
     "data": {
      "image/png": "[encoded data removed]",
      "text/plain": [
       "<Figure size 432x288 with 1 Axes>"
      ]
     },
     "metadata": {
      "needs_background": "light"
     },
     "output_type": "display_data"
    }
   ],
   "source": [
    "# feature importance\n",
    "print('Feature importance by decision tree')\n",
    "feat_importances = pd.Series(dt_basic.feature_importances_, index=X_resample.columns)\n",
    "feat_importances.nlargest(20).plot(kind='barh')\n",
    "pyplot.show()"
   ]
  },
  {
   "cell_type": "code",
   "execution_count": 24,
   "metadata": {},
   "outputs": [
    {
     "name": "stdout",
     "output_type": "stream",
     "text": [
      "dt_basic: 0.8861869864534755\n",
      "Accuracy score of dt_basic with CV:  0.8331864820084778\n"
     ]
    }
   ],
   "source": [
    "scores = cross_val_score(dt_basic, X_resample, y_resample, cv = 10)\n",
    "print('dt_basic:',accuracy_score(y_test, y_predict))\n",
    "print('Accuracy score of dt_basic with CV: ', scores.mean())"
   ]
  },
  {
   "cell_type": "code",
   "execution_count": 25,
   "metadata": {},
   "outputs": [
    {
     "name": "stdout",
     "output_type": "stream",
     "text": [
      "[[12082  1489]\n",
      " [ 1586 11861]]\n"
     ]
    }
   ],
   "source": [
    "print(confusion_matrix(y_test, y_predict))"
   ]
  },
  {
   "cell_type": "code",
   "execution_count": 27,
   "metadata": {},
   "outputs": [
    {
     "name": "stdout",
     "output_type": "stream",
     "text": [
      "              precision    recall  f1-score   support\n",
      "\n",
      "         0.0       0.88      0.89      0.89     13571\n",
      "         1.0       0.89      0.88      0.89     13447\n",
      "\n",
      "    accuracy                           0.89     27018\n",
      "   macro avg       0.89      0.89      0.89     27018\n",
      "weighted avg       0.89      0.89      0.89     27018\n",
      "\n"
     ]
    }
   ],
   "source": [
    "print(classification_report(y_test, y_predict))"
   ]
  },
  {
   "cell_type": "markdown",
   "metadata": {},
   "source": [
    "Random Forest"
   ]
  },
  {
   "cell_type": "code",
   "execution_count": 28,
   "metadata": {},
   "outputs": [],
   "source": [
    "rf_basic = RandomForestClassifier()\n",
    "y_predict = rf_basic.fit(X_train, y_train).predict(X_test)"
   ]
  },
  {
   "cell_type": "code",
   "execution_count": 30,
   "metadata": {},
   "outputs": [
    {
     "data": {
      "image/png": "[encoded data removed]",
      "text/plain": [
       "<Figure size 432x288 with 1 Axes>"
      ]
     },
     "metadata": {
      "needs_background": "light"
     },
     "output_type": "display_data"
    }
   ],
   "source": [
    "# Compute ROC curve and ROC area   \n",
    "y_pred_proba = rf_basic.predict_proba(X_test)[:,1]\n",
    "rfp_fpr, rfp_tpr, _ = metrics.roc_curve(y_test,  y_pred_proba)\n",
    "rfp_roc_auc = metrics.auc(rfp_fpr, rfp_tpr)\n",
    "\n",
    "\n",
    "# Plot of a ROC curve \n",
    "plt.figure()\n",
    "plt.plot(rfp_fpr, rfp_tpr, label='Person_Random Forest ROC curve (area = %0.4f)' % rfp_roc_auc)\n",
    "plt.plot([0, 1], [0, 1], 'k--')\n",
    "plt.xlim([0.0, 1.00])\n",
    "plt.ylim([0.0, 1.05])\n",
    "plt.xlabel('False Positive Rate')\n",
    "plt.ylabel('True Positive Rate')\n",
    "plt.title('Receiver operating characteristic')\n",
    "plt.legend(loc=\"lower right\")\n",
    "plt.show()"
   ]
  },
  {
   "cell_type": "code",
   "execution_count": 31,
   "metadata": {},
   "outputs": [
    {
     "name": "stdout",
     "output_type": "stream",
     "text": [
      "rf_basic: 0.9186468280405655\n",
      "Accuracy score of rf_basic with CV:  0.8641443356350871\n"
     ]
    }
   ],
   "source": [
    "scores = cross_val_score(rf_basic, X_resample, y_resample, cv = 10)\n",
    "print('rf_basic:',accuracy_score(y_test, y_predict))\n",
    "print('Accuracy score of rf_basic with CV: ', scores.mean())"
   ]
  },
  {
   "cell_type": "code",
   "execution_count": 32,
   "metadata": {},
   "outputs": [
    {
     "name": "stdout",
     "output_type": "stream",
     "text": [
      "Feature importance by Random Forest\n"
     ]
    },
    {
     "data": {
      "image/png": "[encoded data removed]",
      "text/plain": [
       "<Figure size 432x288 with 1 Axes>"
      ]
     },
     "metadata": {
      "needs_background": "light"
     },
     "output_type": "display_data"
    }
   ],
   "source": [
    "# feature importance\n",
    "print('Feature importance by Random Forest')\n",
    "feat_importances = pd.Series(rf_basic.feature_importances_, index=X_resample.columns)\n",
    "feat_importances.nlargest(20).plot(kind='barh')\n",
    "pyplot.show()"
   ]
  },
  {
   "cell_type": "code",
   "execution_count": 33,
   "metadata": {},
   "outputs": [
    {
     "name": "stdout",
     "output_type": "stream",
     "text": [
      "[[12427  1144]\n",
      " [ 1054 12393]]\n"
     ]
    }
   ],
   "source": [
    "print(confusion_matrix(y_test, y_predict))"
   ]
  },
  {
   "cell_type": "code",
   "execution_count": 34,
   "metadata": {},
   "outputs": [
    {
     "name": "stdout",
     "output_type": "stream",
     "text": [
      "              precision    recall  f1-score   support\n",
      "\n",
      "         0.0       0.92      0.92      0.92     13571\n",
      "         1.0       0.92      0.92      0.92     13447\n",
      "\n",
      "    accuracy                           0.92     27018\n",
      "   macro avg       0.92      0.92      0.92     27018\n",
      "weighted avg       0.92      0.92      0.92     27018\n",
      "\n"
     ]
    }
   ],
   "source": [
    "print(classification_report(y_test, y_predict))"
   ]
  },
  {
   "cell_type": "markdown",
   "metadata": {},
   "source": [
    "KNN"
   ]
  },
  {
   "cell_type": "code",
   "execution_count": 35,
   "metadata": {},
   "outputs": [],
   "source": [
    "knn_basic = KNeighborsClassifier()\n",
    "y_predict = knn_basic.fit(X_train, y_train).predict(X_test)"
   ]
  },
  {
   "cell_type": "code",
   "execution_count": 36,
   "metadata": {},
   "outputs": [
    {
     "data": {
      "image/png": "[encoded data removed]",
      "text/plain": [
       "<Figure size 432x288 with 1 Axes>"
      ]
     },
     "metadata": {
      "needs_background": "light"
     },
     "output_type": "display_data"
    }
   ],
   "source": [
    "# Compute ROC curve and ROC area   \n",
    "y_pred_proba = knn_basic.predict_proba(X_test)[:,1]\n",
    "knnp_fpr, knnp_tpr, _ = metrics.roc_curve(y_test,  y_pred_proba)\n",
    "knnp_roc_auc = metrics.auc(knnp_fpr, knnp_tpr)\n",
    "\n",
    "\n",
    "# Plot of a ROC curve \n",
    "plt.figure()\n",
    "plt.plot(knnp_fpr, knnp_tpr, label='Perosn KNN ROC curve (area = %0.2f)' % knnp_roc_auc)\n",
    "plt.plot([0, 1], [0, 1], 'k--')\n",
    "plt.xlim([0.0, 1.00])\n",
    "plt.ylim([0.0, 1.00])\n",
    "plt.xlabel('False Positive Rate')\n",
    "plt.ylabel('True Positive Rate')\n",
    "plt.title('Receiver operating characteristic')\n",
    "plt.legend(loc=\"lower right\")\n",
    "plt.show()"
   ]
  },
  {
   "cell_type": "code",
   "execution_count": 37,
   "metadata": {},
   "outputs": [
    {
     "name": "stdout",
     "output_type": "stream",
     "text": [
      "knn_basic: 0.8151232511658895\n",
      "Accuracy score of knn_basic with CV:  0.7994073480287003\n"
     ]
    }
   ],
   "source": [
    "scores = cross_val_score(knn_basic, X_resample, y_resample, cv = 10)\n",
    "print('knn_basic:',accuracy_score(y_test, y_predict))\n",
    "print('Accuracy score of knn_basic with CV: ', scores.mean())"
   ]
  },
  {
   "cell_type": "code",
   "execution_count": 38,
   "metadata": {},
   "outputs": [
    {
     "name": "stdout",
     "output_type": "stream",
     "text": [
      "[[10007  3564]\n",
      " [ 1431 12016]]\n"
     ]
    }
   ],
   "source": [
    "print(confusion_matrix(y_test, y_predict))"
   ]
  },
  {
   "cell_type": "code",
   "execution_count": 39,
   "metadata": {},
   "outputs": [
    {
     "name": "stdout",
     "output_type": "stream",
     "text": [
      "              precision    recall  f1-score   support\n",
      "\n",
      "         0.0       0.87      0.74      0.80     13571\n",
      "         1.0       0.77      0.89      0.83     13447\n",
      "\n",
      "    accuracy                           0.82     27018\n",
      "   macro avg       0.82      0.82      0.81     27018\n",
      "weighted avg       0.82      0.82      0.81     27018\n",
      "\n"
     ]
    }
   ],
   "source": [
    "print(classification_report(y_test, y_predict))"
   ]
  },
  {
   "cell_type": "markdown",
   "metadata": {},
   "source": [
    "Logistic Regression"
   ]
  },
  {
   "cell_type": "code",
   "execution_count": 41,
   "metadata": {},
   "outputs": [],
   "source": [
    "from sklearn.linear_model import LogisticRegression\n",
    "lr_basic = LogisticRegression()\n",
    "y_predict = lr_basic.fit(X_train, y_train).predict(X_test)"
   ]
  },
  {
   "cell_type": "code",
   "execution_count": 42,
   "metadata": {},
   "outputs": [
    {
     "data": {
      "image/png": "[encoded data removed]",
      "text/plain": [
       "<Figure size 432x288 with 1 Axes>"
      ]
     },
     "metadata": {
      "needs_background": "light"
     },
     "output_type": "display_data"
    }
   ],
   "source": [
    "# Compute ROC curve and ROC area   \n",
    "y_pred_proba = lr_basic.predict_proba(X_test)[:,1]\n",
    "lrp_fpr, lrp_tpr, _ = metrics.roc_curve(y_test,  y_pred_proba)\n",
    "lrp_roc_auc = metrics.auc(lrp_fpr, lrp_tpr)\n",
    "\n",
    "\n",
    "# Plot of a ROC curve \n",
    "plt.figure()\n",
    "plt.plot(lrp_fpr, lrp_tpr, label='Perosn LR ROC curve (area = %0.4f)' % lrp_roc_auc)\n",
    "plt.plot([0, 1], [0, 1], 'k--')\n",
    "plt.xlim([0.0, 1.00])\n",
    "plt.ylim([0.0, 1.00])\n",
    "plt.xlabel('False Positive Rate')\n",
    "plt.ylabel('True Positive Rate')\n",
    "plt.title('Receiver operating characteristic')\n",
    "plt.legend(loc=\"lower right\")\n",
    "plt.show()"
   ]
  },
  {
   "cell_type": "code",
   "execution_count": 43,
   "metadata": {},
   "outputs": [
    {
     "name": "stdout",
     "output_type": "stream",
     "text": [
      "lr_basic: 0.49770523354800505\n",
      "Accuracy score of lr_basic with CV:  0.499988895058301\n"
     ]
    }
   ],
   "source": [
    "scores = cross_val_score(lr_basic, X_resample, y_resample, cv = 10)\n",
    "print('lr_basic:',accuracy_score(y_test, y_predict))\n",
    "print('Accuracy score of lr_basic with CV: ', scores.mean())"
   ]
  },
  {
   "cell_type": "code",
   "execution_count": 44,
   "metadata": {},
   "outputs": [
    {
     "name": "stdout",
     "output_type": "stream",
     "text": [
      "              precision    recall  f1-score   support\n",
      "\n",
      "         0.0       0.00      0.00      0.00     13571\n",
      "         1.0       0.50      1.00      0.66     13447\n",
      "\n",
      "    accuracy                           0.50     27018\n",
      "   macro avg       0.25      0.50      0.33     27018\n",
      "weighted avg       0.25      0.50      0.33     27018\n",
      "\n"
     ]
    },
    {
     "name": "stderr",
     "output_type": "stream",
     "text": [
      "C:\\Users\\ZeWu\\Anaconda3\\lib\\site-packages\\sklearn\\metrics\\_classification.py:1221: UndefinedMetricWarning: Precision and F-score are ill-defined and being set to 0.0 in labels with no predicted samples. Use `zero_division` parameter to control this behavior.\n",
      "  _warn_prf(average, modifier, msg_start, len(result))\n"
     ]
    }
   ],
   "source": [
    "print(classification_report(y_test, y_predict))"
   ]
  },
  {
   "cell_type": "code",
   "execution_count": null,
   "metadata": {},
   "outputs": [],
   "source": []
  },
  {
   "cell_type": "code",
   "execution_count": 45,
   "metadata": {},
   "outputs": [
    {
     "data": {
      "image/png": "[encoded data removed]",
      "text/plain": [
       "<Figure size 432x288 with 1 Axes>"
      ]
     },
     "metadata": {
      "needs_background": "light"
     },
     "output_type": "display_data"
    }
   ],
   "source": [
    "# merge roc_auc into one curve\n",
    "plt.figure()\n",
    "plt.plot(dtp_fpr, dtp_tpr, color='darkorange',\n",
    "         lw=2, label='P DT ROC curve (area = %0.4f)' % dtp_roc_auc)\n",
    "plt.plot(rfp_fpr, rfp_tpr, color='darkgreen',\n",
    "         lw=2, label='p RF ROC curve (area = %0.4f)' % rfp_roc_auc)\n",
    "plt.plot(knnp_fpr, knnp_tpr, color='red',\n",
    "         lw=2, label='p KNN ROC curve (area = %0.4f)' % knnp_roc_auc)\n",
    "plt.plot(lrp_fpr, lrp_tpr, color='orange',\n",
    "         lw=2, label='p LR ROC curve (area = %0.4f)' % lrp_roc_auc)\n",
    "plt.plot([0, 1], [0, 1], color='navy', lw=2, linestyle='--')\n",
    "plt.xlim([0.0, 1.0])\n",
    "plt.ylim([0.0, 1.05])\n",
    "plt.xlabel('False Positive Rate')\n",
    "plt.ylabel('True Positive Rate')\n",
    "plt.title('ROC Curve')\n",
    "plt.legend(loc=\"lower right\")\n",
    "plt.show()"
   ]
  },
  {
   "cell_type": "code",
   "execution_count": null,
   "metadata": {},
   "outputs": [],
   "source": []
  },
  {
   "cell_type": "markdown",
   "metadata": {},
   "source": [
    " Use data frame to show the resluts"
   ]
  },
  {
   "cell_type": "code",
   "execution_count": 46,
   "metadata": {},
   "outputs": [],
   "source": [
    "MLA = [\n",
    "    linear_model.LogisticRegressionCV(),\n",
    "    naive_bayes.GaussianNB(),\n",
    "    KNeighborsClassifier(),\n",
    "    tree.DecisionTreeClassifier(),\n",
    "    ensemble.RandomForestClassifier(),\n",
    "    svm.SVC()\n",
    "]"
   ]
  },
  {
   "cell_type": "code",
   "execution_count": 47,
   "metadata": {},
   "outputs": [
    {
     "name": "stderr",
     "output_type": "stream",
     "text": [
      "C:\\Users\\ZeWu\\Anaconda3\\lib\\site-packages\\sklearn\\linear_model\\_logistic.py:762: ConvergenceWarning: lbfgs failed to converge (status=2):\n",
      "ABNORMAL_TERMINATION_IN_LNSRCH.\n",
      "\n",
      "Increase the number of iterations (max_iter) or scale the data as shown in:\n",
      "    https://scikit-learn.org/stable/modules/preprocessing.html\n",
      "Please also refer to the documentation for alternative solver options:\n",
      "    https://scikit-learn.org/stable/modules/linear_model.html#logistic-regression\n",
      "  n_iter_i = _check_optimize_result(\n",
      "C:\\Users\\ZeWu\\Anaconda3\\lib\\site-packages\\sklearn\\linear_model\\_logistic.py:762: ConvergenceWarning: lbfgs failed to converge (status=2):\n",
      "ABNORMAL_TERMINATION_IN_LNSRCH.\n",
      "\n",
      "Increase the number of iterations (max_iter) or scale the data as shown in:\n",
      "    https://scikit-learn.org/stable/modules/preprocessing.html\n",
      "Please also refer to the documentation for alternative solver options:\n",
      "    https://scikit-learn.org/stable/modules/linear_model.html#logistic-regression\n",
      "  n_iter_i = _check_optimize_result(\n"
     ]
    },
    {
     "data": {
      "text/html": [
       "<div>\n",
       "<style scoped>\n",
       "    .dataframe tbody tr th:only-of-type {\n",
       "        vertical-align: middle;\n",
       "    }\n",
       "\n",
       "    .dataframe tbody tr th {\n",
       "        vertical-align: top;\n",
       "    }\n",
       "\n",
       "    .dataframe thead th {\n",
       "        text-align: right;\n",
       "    }\n",
       "</style>\n",
       "<table border=\"1\" class=\"dataframe\">\n",
       "  <thead>\n",
       "    <tr style=\"text-align: right;\">\n",
       "      <th></th>\n",
       "      <th>MLA Name</th>\n",
       "      <th>Precision</th>\n",
       "      <th>AUC</th>\n",
       "    </tr>\n",
       "  </thead>\n",
       "  <tbody>\n",
       "    <tr>\n",
       "      <th>4</th>\n",
       "      <td>RandomForestClassifier</td>\n",
       "      <td>0.916926</td>\n",
       "      <td>0.919508</td>\n",
       "    </tr>\n",
       "    <tr>\n",
       "      <th>3</th>\n",
       "      <td>DecisionTreeClassifier</td>\n",
       "      <td>0.886808</td>\n",
       "      <td>0.886029</td>\n",
       "    </tr>\n",
       "    <tr>\n",
       "      <th>2</th>\n",
       "      <td>KNeighborsClassifier</td>\n",
       "      <td>0.771245</td>\n",
       "      <td>0.815482</td>\n",
       "    </tr>\n",
       "    <tr>\n",
       "      <th>1</th>\n",
       "      <td>GaussianNB</td>\n",
       "      <td>0.827595</td>\n",
       "      <td>0.692214</td>\n",
       "    </tr>\n",
       "    <tr>\n",
       "      <th>0</th>\n",
       "      <td>LogisticRegressionCV</td>\n",
       "      <td>0.497705</td>\n",
       "      <td>0.500000</td>\n",
       "    </tr>\n",
       "    <tr>\n",
       "      <th>5</th>\n",
       "      <td>SVC</td>\n",
       "      <td>0.497705</td>\n",
       "      <td>0.500000</td>\n",
       "    </tr>\n",
       "  </tbody>\n",
       "</table>\n",
       "</div>"
      ],
      "text/plain": [
       "                 MLA Name  Precision       AUC\n",
       "4  RandomForestClassifier   0.916926  0.919508\n",
       "3  DecisionTreeClassifier   0.886808  0.886029\n",
       "2    KNeighborsClassifier   0.771245  0.815482\n",
       "1              GaussianNB   0.827595  0.692214\n",
       "0    LogisticRegressionCV   0.497705  0.500000\n",
       "5                     SVC   0.497705  0.500000"
      ]
     },
     "execution_count": 47,
     "metadata": {},
     "output_type": "execute_result"
    }
   ],
   "source": [
    "MLA_columns = []\n",
    "MLA_compare = pd.DataFrame(columns = MLA_columns)\n",
    "\n",
    "row_index = 0\n",
    "for alg in MLA:\n",
    "    predicted = alg.fit(X_train, y_train).predict(X_test)\n",
    "    fp, tp, th = roc_curve(y_test, predicted)\n",
    "    MLA_name = alg.__class__.__name__\n",
    "    MLA_compare.loc[row_index,'MLA Name'] = MLA_name\n",
    "    MLA_compare.loc[row_index, 'Precision'] = precision_score(y_test, predicted)\n",
    "    MLA_compare.loc[row_index, 'AUC'] = metrics.auc(fp, tp)\n",
    "    \n",
    "    row_index+=1\n",
    "MLA_compare.sort_values(by = ['AUC'], ascending = False, inplace = True)\n",
    "MLA_compare"
   ]
  },
  {
   "cell_type": "code",
   "execution_count": null,
   "metadata": {},
   "outputs": [],
   "source": []
  },
  {
   "cell_type": "code",
   "execution_count": null,
   "metadata": {},
   "outputs": [],
   "source": []
  },
  {
   "cell_type": "markdown",
   "metadata": {},
   "source": [
    "II. vehicle level (dep variable: MXVSEV_IM)"
   ]
  },
  {
   "cell_type": "code",
   "execution_count": 48,
   "metadata": {},
   "outputs": [
    {
     "name": "stderr",
     "output_type": "stream",
     "text": [
      "C:\\Users\\ZeWu\\Anaconda3\\lib\\site-packages\\IPython\\core\\interactiveshell.py:3071: DtypeWarning: Columns (65,66,112,113) have mixed types.Specify dtype option on import or set low_memory=False.\n",
      "  has_raised = await self.run_ast_nodes(code_ast.body, cell_name,\n"
     ]
    },
    {
     "data": {
      "text/html": [
       "<div>\n",
       "<style scoped>\n",
       "    .dataframe tbody tr th:only-of-type {\n",
       "        vertical-align: middle;\n",
       "    }\n",
       "\n",
       "    .dataframe tbody tr th {\n",
       "        vertical-align: top;\n",
       "    }\n",
       "\n",
       "    .dataframe thead th {\n",
       "        text-align: right;\n",
       "    }\n",
       "</style>\n",
       "<table border=\"1\" class=\"dataframe\">\n",
       "  <thead>\n",
       "    <tr style=\"text-align: right;\">\n",
       "      <th></th>\n",
       "      <th>CASENUM</th>\n",
       "      <th>REGION</th>\n",
       "      <th>PSU</th>\n",
       "      <th>PJ</th>\n",
       "      <th>PSU_VAR</th>\n",
       "      <th>URBANICITY</th>\n",
       "      <th>STRATUM</th>\n",
       "      <th>VE_TOTAL</th>\n",
       "      <th>VE_FORMS</th>\n",
       "      <th>PVH_INVL</th>\n",
       "      <th>...</th>\n",
       "      <th>PTRLR1VIN</th>\n",
       "      <th>PTRLR2VIN</th>\n",
       "      <th>PTRLR3VIN</th>\n",
       "      <th>MDAREAS</th>\n",
       "      <th>MFACTOR</th>\n",
       "      <th>MDRDSTRD</th>\n",
       "      <th>MDRMANAV</th>\n",
       "      <th>DRIMPAIR</th>\n",
       "      <th>MVIOLATN</th>\n",
       "      <th>MVISOBSC</th>\n",
       "    </tr>\n",
       "  </thead>\n",
       "  <tbody>\n",
       "    <tr>\n",
       "      <th>0</th>\n",
       "      <td>201800381338</td>\n",
       "      <td>4</td>\n",
       "      <td>56</td>\n",
       "      <td>208</td>\n",
       "      <td>208</td>\n",
       "      <td>1</td>\n",
       "      <td>9</td>\n",
       "      <td>4</td>\n",
       "      <td>4</td>\n",
       "      <td>0</td>\n",
       "      <td>...</td>\n",
       "      <td>NaN</td>\n",
       "      <td>NaN</td>\n",
       "      <td>NaN</td>\n",
       "      <td>12</td>\n",
       "      <td>0</td>\n",
       "      <td>0</td>\n",
       "      <td>4</td>\n",
       "      <td>0</td>\n",
       "      <td>0</td>\n",
       "      <td>0</td>\n",
       "    </tr>\n",
       "    <tr>\n",
       "      <th>1</th>\n",
       "      <td>201800381338</td>\n",
       "      <td>4</td>\n",
       "      <td>56</td>\n",
       "      <td>208</td>\n",
       "      <td>208</td>\n",
       "      <td>1</td>\n",
       "      <td>9</td>\n",
       "      <td>4</td>\n",
       "      <td>4</td>\n",
       "      <td>0</td>\n",
       "      <td>...</td>\n",
       "      <td>NaN</td>\n",
       "      <td>NaN</td>\n",
       "      <td>NaN</td>\n",
       "      <td>6,12</td>\n",
       "      <td>0</td>\n",
       "      <td>0</td>\n",
       "      <td>4</td>\n",
       "      <td>0</td>\n",
       "      <td>0</td>\n",
       "      <td>0</td>\n",
       "    </tr>\n",
       "    <tr>\n",
       "      <th>2</th>\n",
       "      <td>201800381338</td>\n",
       "      <td>4</td>\n",
       "      <td>56</td>\n",
       "      <td>208</td>\n",
       "      <td>208</td>\n",
       "      <td>1</td>\n",
       "      <td>9</td>\n",
       "      <td>4</td>\n",
       "      <td>4</td>\n",
       "      <td>0</td>\n",
       "      <td>...</td>\n",
       "      <td>NaN</td>\n",
       "      <td>NaN</td>\n",
       "      <td>NaN</td>\n",
       "      <td>6,12</td>\n",
       "      <td>0</td>\n",
       "      <td>0</td>\n",
       "      <td>0</td>\n",
       "      <td>0</td>\n",
       "      <td>0</td>\n",
       "      <td>0</td>\n",
       "    </tr>\n",
       "    <tr>\n",
       "      <th>3</th>\n",
       "      <td>201800381338</td>\n",
       "      <td>4</td>\n",
       "      <td>56</td>\n",
       "      <td>208</td>\n",
       "      <td>208</td>\n",
       "      <td>1</td>\n",
       "      <td>9</td>\n",
       "      <td>4</td>\n",
       "      <td>4</td>\n",
       "      <td>0</td>\n",
       "      <td>...</td>\n",
       "      <td>NaN</td>\n",
       "      <td>NaN</td>\n",
       "      <td>NaN</td>\n",
       "      <td>6</td>\n",
       "      <td>0</td>\n",
       "      <td>0</td>\n",
       "      <td>0</td>\n",
       "      <td>0</td>\n",
       "      <td>0</td>\n",
       "      <td>0</td>\n",
       "    </tr>\n",
       "    <tr>\n",
       "      <th>4</th>\n",
       "      <td>201800381366</td>\n",
       "      <td>4</td>\n",
       "      <td>56</td>\n",
       "      <td>214</td>\n",
       "      <td>214</td>\n",
       "      <td>1</td>\n",
       "      <td>7</td>\n",
       "      <td>3</td>\n",
       "      <td>3</td>\n",
       "      <td>0</td>\n",
       "      <td>...</td>\n",
       "      <td>NaN</td>\n",
       "      <td>NaN</td>\n",
       "      <td>NaN</td>\n",
       "      <td>1,2,10,11,12</td>\n",
       "      <td>0</td>\n",
       "      <td>0</td>\n",
       "      <td>98</td>\n",
       "      <td>0</td>\n",
       "      <td>0</td>\n",
       "      <td>0</td>\n",
       "    </tr>\n",
       "  </tbody>\n",
       "</table>\n",
       "<p>5 rows × 170 columns</p>\n",
       "</div>"
      ],
      "text/plain": [
       "        CASENUM  REGION  PSU   PJ  PSU_VAR  URBANICITY  STRATUM  VE_TOTAL  \\\n",
       "0  201800381338       4   56  208      208           1        9         4   \n",
       "1  201800381338       4   56  208      208           1        9         4   \n",
       "2  201800381338       4   56  208      208           1        9         4   \n",
       "3  201800381338       4   56  208      208           1        9         4   \n",
       "4  201800381366       4   56  214      214           1        7         3   \n",
       "\n",
       "   VE_FORMS  PVH_INVL  ...  PTRLR1VIN  PTRLR2VIN  PTRLR3VIN       MDAREAS  \\\n",
       "0         4         0  ...        NaN        NaN        NaN            12   \n",
       "1         4         0  ...        NaN        NaN        NaN          6,12   \n",
       "2         4         0  ...        NaN        NaN        NaN          6,12   \n",
       "3         4         0  ...        NaN        NaN        NaN             6   \n",
       "4         3         0  ...        NaN        NaN        NaN  1,2,10,11,12   \n",
       "\n",
       "   MFACTOR  MDRDSTRD  MDRMANAV  DRIMPAIR  MVIOLATN  MVISOBSC  \n",
       "0        0         0         4         0         0         0  \n",
       "1        0         0         4         0         0         0  \n",
       "2        0         0         0         0         0         0  \n",
       "3        0         0         0         0         0         0  \n",
       "4        0         0        98         0         0         0  \n",
       "\n",
       "[5 rows x 170 columns]"
      ]
     },
     "execution_count": 48,
     "metadata": {},
     "output_type": "execute_result"
    }
   ],
   "source": [
    "v_data = pd.read_csv('vehicle_level_full_data.csv',index_col=0)\n",
    "v_data.head()"
   ]
  },
  {
   "cell_type": "code",
   "execution_count": 49,
   "metadata": {
    "tags": []
   },
   "outputs": [
    {
     "name": "stdout",
     "output_type": "stream",
     "text": [
      "Enter columns that don't need to encode (eg: AAA BBB): CASENUM PJ STARA TUM PSUSTRAT VEH_NO PER_NO STR_VEH MAKE MAK_MOD MODEL DR_ZIP VIN MCARR_I2 MCARR_ID TRLR1VIN TRLR2VIN TRLR3VIN PMODEL PMAK_MOD PVIN PMCARR_I1 PMCARR_I2 PMCARR_ID PHAZ_ID PTRLR1VIN PTRLR2VIN PTRLR3VIN HAZ_ID VE_TOTAL VE_FORMS PVH_INVL PERMVIT PERNOTMVIT NUM_INJ NUMINJ_IM WEIGHT AGE AGE_IM PBAGE NUMOCCS TRAV_SP MONTH YEAR DAY_WEEK HOUR MINUTE MOD_YEAR PMODYEAR PMONTH PHOUR PMINUTE\n",
      "the number of column that dont need to encoded is 52\n"
     ]
    }
   ],
   "source": [
    "# replace the 'Not_reported', 'Unknown, 'None' with NA \n",
    "v_data_dropped = null_modifier(v_data)\n",
    "# drop the columns have too many missing values\n",
    "v_data_dropped = drop_missing_columns(v_data_dropped)\n",
    "# encode\n",
    "\n",
    "#CASENUM PJ STARA TUM PSUSTRAT VEH_NO PER_NO STR_VEH MAKE MAK_MOD MODEL DR_ZIP VIN MCARR_I2 MCARR_ID TRLR1VIN TRLR2VIN TRLR3VIN PMODEL PMAK_MOD PVIN PMCARR_I1 PMCARR_I2 PMCARR_ID PHAZ_ID PTRLR1VIN PTRLR2VIN PTRLR3VIN HAZ_ID VE_TOTAL VE_FORMS PVH_INVL PERMVIT PERNOTMVIT NUM_INJ NUMINJ_IM WEIGHT AGE AGE_IM PBAGE NUMOCCS TRAV_SP MONTH YEAR DAY_WEEK HOUR MINUTE MOD_YEAR PMODYEAR PMONTH PHOUR PMINUTE\n",
    "v_data_dropped = encoding(v_data_dropped)"
   ]
  },
  {
   "cell_type": "code",
   "execution_count": 50,
   "metadata": {
    "tags": []
   },
   "outputs": [
    {
     "name": "stdout",
     "output_type": "stream",
     "text": [
      "<class 'pandas.core.frame.DataFrame'>\n",
      "RangeIndex: 51260 entries, 0 to 51259\n",
      "Data columns (total 92 columns):\n",
      " #   Column      Non-Null Count  Dtype  \n",
      "---  ------      --------------  -----  \n",
      " 0   CASENUM     51260 non-null  int64  \n",
      " 1   REGION      51260 non-null  int64  \n",
      " 2   PSU         51260 non-null  int64  \n",
      " 3   PJ          51260 non-null  int64  \n",
      " 4   PSU_VAR     51260 non-null  int64  \n",
      " 5   URBANICITY  51260 non-null  int64  \n",
      " 6   STRATUM     51260 non-null  int64  \n",
      " 7   VE_TOTAL    51260 non-null  int64  \n",
      " 8   VE_FORMS    51260 non-null  int64  \n",
      " 9   PVH_INVL    51260 non-null  int64  \n",
      " 10  PEDS        51260 non-null  int64  \n",
      " 11  PERMVIT     51260 non-null  int64  \n",
      " 12  PERNOTMVIT  51260 non-null  int64  \n",
      " 13  MONTH       51260 non-null  int64  \n",
      " 14  YEAR        51260 non-null  int64  \n",
      " 15  RELJCT1     51260 non-null  int64  \n",
      " 16  TYP_INT     51260 non-null  int64  \n",
      " 17  REL_ROAD    51260 non-null  int64  \n",
      " 18  WEATHER1    51260 non-null  int64  \n",
      " 19  WEATHER2    51260 non-null  int64  \n",
      " 20  WEATHER     51260 non-null  int64  \n",
      " 21  SCH_BUS     51260 non-null  int64  \n",
      " 22  INT_HWY     51260 non-null  int64  \n",
      " 23  WKDY_IM     51260 non-null  int64  \n",
      " 24  HOUR_IM     51260 non-null  int64  \n",
      " 25  MINUTE_IM   51260 non-null  int64  \n",
      " 26  EVENT1_IM   51260 non-null  int64  \n",
      " 27  MANCOL_IM   51260 non-null  int64  \n",
      " 28  RELJCT1_IM  51260 non-null  int64  \n",
      " 29  RELJCT2_IM  51260 non-null  int64  \n",
      " 30  LGTCON_IM   51260 non-null  int64  \n",
      " 31  WEATHR_IM   51260 non-null  int64  \n",
      " 32  MAXSEV_IM   51260 non-null  int64  \n",
      " 33  NO_INJ_IM   51260 non-null  int64  \n",
      " 34  ALCHL_IM    51260 non-null  int64  \n",
      " 35  PSUSTRAT    51260 non-null  int64  \n",
      " 36  WEIGHT      51260 non-null  float64\n",
      " 37  VEH_NO      51260 non-null  int64  \n",
      " 38  NUMOCCS     51260 non-null  float64\n",
      " 39  UNITTYPE    51260 non-null  float64\n",
      " 40  MAKE        51260 non-null  float64\n",
      " 41  MODEL       51260 non-null  float64\n",
      " 42  MAK_MOD     51260 non-null  float64\n",
      " 43  VIN         51260 non-null  object \n",
      " 44  TOW_VEH     51260 non-null  float64\n",
      " 45  J_KNIFE     51260 non-null  float64\n",
      " 46  GVWR        51260 non-null  float64\n",
      " 47  V_CONFIG    51260 non-null  float64\n",
      " 48  CARGO_BT    51260 non-null  float64\n",
      " 49  HAZ_INV     51260 non-null  float64\n",
      " 50  HAZ_ID      51260 non-null  float64\n",
      " 51  BUS_USE     51260 non-null  float64\n",
      " 52  SPEC_USE    51260 non-null  float64\n",
      " 53  ROLLOVER    51260 non-null  float64\n",
      " 54  ROLINLOC    51260 non-null  float64\n",
      " 55  TOWED       51260 non-null  float64\n",
      " 56  VEH_SC1     51260 non-null  float64\n",
      " 57  VEH_SC2     51260 non-null  float64\n",
      " 58  FIRE_EXP    51260 non-null  float64\n",
      " 59  DR_PRES     51260 non-null  float64\n",
      " 60  DR_ZIP      51260 non-null  float64\n",
      " 61  SPEEDREL    51260 non-null  float64\n",
      " 62  DR_SF1      51260 non-null  float64\n",
      " 63  DR_SF2      51260 non-null  float64\n",
      " 64  DR_SF3      51260 non-null  float64\n",
      " 65  DR_SF4      51260 non-null  float64\n",
      " 66  VTRAFWAY    51260 non-null  float64\n",
      " 67  VSPD_LIM    51260 non-null  float64\n",
      " 68  VALIGN      51260 non-null  float64\n",
      " 69  VPROFILE    51260 non-null  float64\n",
      " 70  VSURCOND    51260 non-null  float64\n",
      " 71  VTRAFCON    51260 non-null  float64\n",
      " 72  VTCONT_F    51260 non-null  float64\n",
      " 73  P_CRASH2    51260 non-null  float64\n",
      " 74  PCRASH4     51260 non-null  float64\n",
      " 75  PCRASH5     51260 non-null  float64\n",
      " 76  ACC_TYPE    51260 non-null  float64\n",
      " 77  TRLR1VIN    51260 non-null  object \n",
      " 78  TRLR2VIN    51260 non-null  object \n",
      " 79  TRLR3VIN    51260 non-null  float64\n",
      " 80  HITRUN_IM   51260 non-null  float64\n",
      " 81  BDYTYP_IM   51260 non-null  float64\n",
      " 82  MDLYR_IM    51260 non-null  float64\n",
      " 83  IMPACT1_IM  51260 non-null  float64\n",
      " 84  VEVENT_IM   51260 non-null  float64\n",
      " 85  PCRASH1_IM  51260 non-null  float64\n",
      " 86  MXVSEV_IM   51260 non-null  float64\n",
      " 87  NUMINJ_IM   51260 non-null  float64\n",
      " 88  V_ALCH_IM   51260 non-null  float64\n",
      " 89  MDRDSTRD    51260 non-null  int64  \n",
      " 90  MDRMANAV    51260 non-null  int64  \n",
      " 91  MVISOBSC    51260 non-null  int64  \n",
      "dtypes: float64(49), int64(40), object(3)\n",
      "memory usage: 36.0+ MB\n"
     ]
    }
   ],
   "source": [
    "# list of repeated columns\n",
    "repeated_col = ['DAY_WEEK', 'HOUR', 'MINUTE', 'HARM_EV', 'MAN_COLL',\n",
    "               'RELJCT2', 'LGT_COND', 'MAX_SEV', 'NUM_INJ','ALCOHOL',\n",
    "               'HIT_RUN',\n",
    "               'BODY_TYP', 'MOD_YEAR', 'IMPACT1', 'M_HARM', 'P_CRASH1', 'MAX_VSEV',\n",
    "               'NUM_INJV', 'VEH_ALCH']\n",
    "\n",
    "# drop the repeated columns\n",
    "v_data_dropped = v_data_dropped.drop(repeated_col, axis=1)\n",
    "# drop the observations that have missing values\n",
    "v_data_dropped = v_data_dropped.dropna().reset_index(drop= True)\n",
    "v_data_dropped.info()"
   ]
  },
  {
   "cell_type": "code",
   "execution_count": 51,
   "metadata": {
    "tags": []
   },
   "outputs": [
    {
     "name": "stdout",
     "output_type": "stream",
     "text": [
      "MAXSEV_IM 0.7055549705701595\n",
      "NO_INJ_IM 0.5400489349695413\n",
      "MXVSEV_IM 1.0\n",
      "NUMINJ_IM 0.7659486932495687\n"
     ]
    }
   ],
   "source": [
    "########\n",
    "## 'MXVSEV_IM' is dependent variable\n",
    "\n",
    "# check the correlation\n",
    "for column in v_data_dropped.columns:\n",
    "    if column not in list(v_data_dropped.select_dtypes(include=['object']).columns):\n",
    "        corr = v_data_dropped['MXVSEV_IM'].corr(v_data_dropped[column])\n",
    "        if corr > 0.5:\n",
    "            print(column, corr)"
   ]
  },
  {
   "cell_type": "code",
   "execution_count": 52,
   "metadata": {},
   "outputs": [],
   "source": [
    "########\n",
    "## 'MXVSEV_IM' is dependent variable\n",
    "\n",
    "y3 = v_data_dropped['MXVSEV_IM'].replace([2,3,4,5,],1)\n",
    "# get object list\n",
    "object_list = list(v_data_dropped.select_dtypes(include=['object']).columns)\n",
    "\n",
    "x3 = v_data_dropped.drop(['CASENUM','DR_ZIP','MXVSEV_IM','MAXSEV_IM','NUMINJ_IM','STRATUM','VE_TOTAL','VE_FORMS','PVH_INVL','PERNOTMVIT','TYP_INT','EVENT1_IM','MANCOL_IM','RELJCT1_IM','RELJCT2_IM','NO_INJ_IM'],axis = 1)\n",
    "x3 = x3.drop(object_list, axis=1)"
   ]
  },
  {
   "cell_type": "code",
   "execution_count": 53,
   "metadata": {},
   "outputs": [
    {
     "data": {
      "image/png": "[encoded data removed]",
      "text/plain": [
       "<Figure size 432x288 with 1 Axes>"
      ]
     },
     "metadata": {
      "needs_background": "light"
     },
     "output_type": "display_data"
    }
   ],
   "source": [
    "plt.hist(y3, 20,\n",
    "         density=True,\n",
    "         histtype='bar',\n",
    "         facecolor='b',\n",
    "         alpha=0.5)\n",
    "\n",
    "plt.show()"
   ]
  },
  {
   "cell_type": "code",
   "execution_count": 54,
   "metadata": {},
   "outputs": [],
   "source": [
    "#1.SMOTE -resampling\n",
    "X3_resample, y3_resample = SMOTE().fit_sample(x3, y3)"
   ]
  },
  {
   "cell_type": "code",
   "execution_count": 55,
   "metadata": {},
   "outputs": [
    {
     "data": {
      "text/plain": [
       "array([[ 0.18598167,  0.00289198, -1.12050171, ...,  0.56893781,\n",
       "        -0.81167887, -0.12066884],\n",
       "       [ 0.18598167,  0.00289198, -1.11514769, ..., -0.67337632,\n",
       "        -1.71268419, -0.12066884],\n",
       "       [ 0.18598167,  0.00289198, -1.11514769, ..., -0.67337632,\n",
       "         0.68999666, -0.12066884],\n",
       "       ...,\n",
       "       [ 0.18598167, -1.44298416, -0.797476  , ..., -0.67337632,\n",
       "         0.68999666, -0.12066884],\n",
       "       [ 0.18598167, -0.78029093,  1.30219114, ..., -0.67337632,\n",
       "         0.68999666, -0.12066884],\n",
       "       [ 0.18598167, -1.68396352, -0.78944497, ..., -0.67337632,\n",
       "         0.68999666, -0.12066884]])"
      ]
     },
     "execution_count": 55,
     "metadata": {},
     "output_type": "execute_result"
    }
   ],
   "source": [
    "#Normalized\n",
    "scaler = StandardScaler()\n",
    "scaler.fit(X3_resample)\n",
    "scaler.transform(X3_resample)"
   ]
  },
  {
   "cell_type": "code",
   "execution_count": 56,
   "metadata": {},
   "outputs": [
    {
     "data": {
      "text/plain": [
       "(70536, 73)"
      ]
     },
     "execution_count": 56,
     "metadata": {},
     "output_type": "execute_result"
    }
   ],
   "source": [
    "X3_resample.shape"
   ]
  },
  {
   "cell_type": "code",
   "execution_count": 57,
   "metadata": {},
   "outputs": [],
   "source": [
    "X_train, X_test, y_train, y_test = train_test_split(X3_resample, y3_resample, test_size=0.3, random_state=42)"
   ]
  },
  {
   "cell_type": "markdown",
   "metadata": {},
   "source": [
    "Decision Tree"
   ]
  },
  {
   "cell_type": "code",
   "execution_count": 58,
   "metadata": {},
   "outputs": [],
   "source": [
    "dt_basic = DecisionTreeClassifier()\n",
    "y_predict = dt_basic.fit(X_train, y_train).predict(X_test)"
   ]
  },
  {
   "cell_type": "code",
   "execution_count": 61,
   "metadata": {},
   "outputs": [
    {
     "data": {
      "image/png": "[encoded data removed]",
      "text/plain": [
       "<Figure size 432x288 with 1 Axes>"
      ]
     },
     "metadata": {
      "needs_background": "light"
     },
     "output_type": "display_data"
    }
   ],
   "source": [
    "# Compute ROC curve and ROC area   \n",
    "y_pred_proba = dt_basic.predict_proba(X_test)[:,1]\n",
    "dt_fpr, dt_tpr, _ = metrics.roc_curve(y_test,  y_pred_proba)\n",
    "dt_roc_auc = metrics.auc(dt_fpr, dt_tpr)\n",
    "\n",
    "\n",
    "# Plot of a ROC curve \n",
    "plt.figure()\n",
    "plt.plot(dt_fpr, dt_tpr, label='V_Decision Tree ROC curve (area = %0.4f)' % dt_roc_auc)\n",
    "plt.plot([0, 1], [0, 1], 'k--')\n",
    "plt.xlim([0.0, 1.00])\n",
    "plt.ylim([0.0, 1.00])\n",
    "plt.xlabel('False Positive Rate')\n",
    "plt.ylabel('True Positive Rate')\n",
    "plt.title('Receiver operating characteristic')\n",
    "plt.legend(loc=\"lower right\")\n",
    "plt.show()"
   ]
  },
  {
   "cell_type": "code",
   "execution_count": 62,
   "metadata": {},
   "outputs": [
    {
     "name": "stdout",
     "output_type": "stream",
     "text": [
      "Feature importance by decision tree\n"
     ]
    },
    {
     "data": {
      "image/png": "[encoded data removed]",
      "text/plain": [
       "<Figure size 432x288 with 1 Axes>"
      ]
     },
     "metadata": {
      "needs_background": "light"
     },
     "output_type": "display_data"
    }
   ],
   "source": [
    "# feature importance\n",
    "print('Feature importance by decision tree')\n",
    "feat_importances = pd.Series(dt_basic.feature_importances_, index=X3_resample.columns)\n",
    "feat_importances.nlargest(20).plot(kind='barh')\n",
    "pyplot.show()"
   ]
  },
  {
   "cell_type": "code",
   "execution_count": 63,
   "metadata": {},
   "outputs": [
    {
     "name": "stdout",
     "output_type": "stream",
     "text": [
      "dt_basic: 0.8943811729124332\n",
      "Accuracy score of dt_basic with CV:  0.8660570854614447\n"
     ]
    }
   ],
   "source": [
    "scores = cross_val_score(dt_basic, X3_resample, y3_resample, cv = 10)\n",
    "print('dt_basic:',accuracy_score(y_test, y_predict))\n",
    "print('Accuracy score of dt_basic with CV: ', scores.mean())"
   ]
  },
  {
   "cell_type": "code",
   "execution_count": 64,
   "metadata": {},
   "outputs": [
    {
     "name": "stdout",
     "output_type": "stream",
     "text": [
      "[[9525 1095]\n",
      " [1140 9401]]\n"
     ]
    }
   ],
   "source": [
    "print(confusion_matrix(y_test, y_predict))"
   ]
  },
  {
   "cell_type": "code",
   "execution_count": 65,
   "metadata": {},
   "outputs": [
    {
     "name": "stdout",
     "output_type": "stream",
     "text": [
      "              precision    recall  f1-score   support\n",
      "\n",
      "         0.0       0.89      0.90      0.89     10620\n",
      "         1.0       0.90      0.89      0.89     10541\n",
      "\n",
      "    accuracy                           0.89     21161\n",
      "   macro avg       0.89      0.89      0.89     21161\n",
      "weighted avg       0.89      0.89      0.89     21161\n",
      "\n"
     ]
    }
   ],
   "source": [
    "print(classification_report(y_test, y_predict))"
   ]
  },
  {
   "cell_type": "markdown",
   "metadata": {},
   "source": [
    "Random Forest"
   ]
  },
  {
   "cell_type": "code",
   "execution_count": 66,
   "metadata": {},
   "outputs": [],
   "source": [
    "rf_basic = RandomForestClassifier()\n",
    "y_predict = rf_basic.fit(X_train, y_train).predict(X_test)"
   ]
  },
  {
   "cell_type": "code",
   "execution_count": 68,
   "metadata": {},
   "outputs": [
    {
     "data": {
      "image/png": "[encoded data removed]",
      "text/plain": [
       "<Figure size 432x288 with 1 Axes>"
      ]
     },
     "metadata": {
      "needs_background": "light"
     },
     "output_type": "display_data"
    }
   ],
   "source": [
    "# Compute ROC curve and ROC area   \n",
    "y_pred_proba = rf_basic.predict_proba(X_test)[:,1]\n",
    "rf_fpr, rf_tpr, _ = metrics.roc_curve(y_test,  y_pred_proba)\n",
    "rf_roc_auc = metrics.auc(rf_fpr, rf_tpr)\n",
    "\n",
    "\n",
    "# Plot of a ROC curve \n",
    "plt.figure()\n",
    "plt.plot(rf_fpr, rf_tpr, label='V_Decision Tree ROC curve (area = %0.4f)' % rf_roc_auc)\n",
    "plt.plot([0, 1], [0, 1], 'k--')\n",
    "plt.xlim([0.0, 1.00])\n",
    "plt.ylim([0.0, 1.00])\n",
    "plt.xlabel('False Positive Rate')\n",
    "plt.ylabel('True Positive Rate')\n",
    "plt.title('Receiver operating characteristic')\n",
    "plt.legend(loc=\"lower right\")\n",
    "plt.show()"
   ]
  },
  {
   "cell_type": "code",
   "execution_count": 69,
   "metadata": {},
   "outputs": [
    {
     "name": "stdout",
     "output_type": "stream",
     "text": [
      "rf_basic: 0.923160531165824\n",
      "Accuracy score of rf_basic with CV:  0.8900587921714367\n"
     ]
    }
   ],
   "source": [
    "scores = cross_val_score(rf_basic, X3_resample, y3_resample, cv = 10)\n",
    "print('rf_basic:',accuracy_score(y_test, y_predict))\n",
    "print('Accuracy score of rf_basic with CV: ', scores.mean())"
   ]
  },
  {
   "cell_type": "code",
   "execution_count": 70,
   "metadata": {},
   "outputs": [
    {
     "name": "stdout",
     "output_type": "stream",
     "text": [
      "Feature importance by Random Forest\n"
     ]
    },
    {
     "data": {
      "image/png": "[encoded data removed]",
      "text/plain": [
       "<Figure size 432x288 with 1 Axes>"
      ]
     },
     "metadata": {
      "needs_background": "light"
     },
     "output_type": "display_data"
    }
   ],
   "source": [
    "# feature importance\n",
    "print('Feature importance by Random Forest')\n",
    "feat_importances = pd.Series(rf_basic.feature_importances_, index=X3_resample.columns)\n",
    "feat_importances.nlargest(20).plot(kind='barh')\n",
    "pyplot.show()"
   ]
  },
  {
   "cell_type": "code",
   "execution_count": 71,
   "metadata": {},
   "outputs": [
    {
     "name": "stdout",
     "output_type": "stream",
     "text": [
      "[[9670  950]\n",
      " [ 676 9865]]\n"
     ]
    }
   ],
   "source": [
    "print(confusion_matrix(y_test, y_predict))"
   ]
  },
  {
   "cell_type": "code",
   "execution_count": 72,
   "metadata": {},
   "outputs": [
    {
     "name": "stdout",
     "output_type": "stream",
     "text": [
      "              precision    recall  f1-score   support\n",
      "\n",
      "         0.0       0.93      0.91      0.92     10620\n",
      "         1.0       0.91      0.94      0.92     10541\n",
      "\n",
      "    accuracy                           0.92     21161\n",
      "   macro avg       0.92      0.92      0.92     21161\n",
      "weighted avg       0.92      0.92      0.92     21161\n",
      "\n"
     ]
    }
   ],
   "source": [
    "print(classification_report(y_test, y_predict))"
   ]
  },
  {
   "cell_type": "markdown",
   "metadata": {},
   "source": [
    "KNN"
   ]
  },
  {
   "cell_type": "code",
   "execution_count": 73,
   "metadata": {},
   "outputs": [],
   "source": [
    "knn_basic = KNeighborsClassifier()\n",
    "y_predict = knn_basic.fit(X_train, y_train).predict(X_test)"
   ]
  },
  {
   "cell_type": "code",
   "execution_count": 74,
   "metadata": {},
   "outputs": [
    {
     "data": {
      "image/png": "[encoded data removed]",
      "text/plain": [
       "<Figure size 432x288 with 1 Axes>"
      ]
     },
     "metadata": {
      "needs_background": "light"
     },
     "output_type": "display_data"
    }
   ],
   "source": [
    "# Compute ROC curve and ROC area   \n",
    "y_pred_proba = knn_basic.predict_proba(X_test)[:,1]\n",
    "knn_fpr, knn_tpr, _ = metrics.roc_curve(y_test,  y_pred_proba)\n",
    "knn_roc_auc = metrics.auc(knn_fpr, knn_tpr)\n",
    "\n",
    "\n",
    "# Plot of a ROC curve \n",
    "plt.figure()\n",
    "plt.plot(knn_fpr, knn_tpr, label='V_Decision Tree ROC curve (area = %0.4f)' % knn_roc_auc)\n",
    "plt.plot([0, 1], [0, 1], 'k--')\n",
    "plt.xlim([0.0, 1.00])\n",
    "plt.ylim([0.0, 1.00])\n",
    "plt.xlabel('False Positive Rate')\n",
    "plt.ylabel('True Positive Rate')\n",
    "plt.title('Receiver operating characteristic')\n",
    "plt.legend(loc=\"lower right\")\n",
    "plt.show()"
   ]
  },
  {
   "cell_type": "code",
   "execution_count": 75,
   "metadata": {},
   "outputs": [
    {
     "name": "stdout",
     "output_type": "stream",
     "text": [
      "knn_basic: 0.8018997211851991\n",
      "Accuracy score of knn_basic with CV:  0.8095875808628026\n"
     ]
    }
   ],
   "source": [
    "scores = cross_val_score(knn_basic, X3_resample, y3_resample, cv = 10)\n",
    "print('knn_basic:',accuracy_score(y_test, y_predict))\n",
    "print('Accuracy score of knn_basic with CV: ', scores.mean())"
   ]
  },
  {
   "cell_type": "code",
   "execution_count": 76,
   "metadata": {},
   "outputs": [
    {
     "name": "stdout",
     "output_type": "stream",
     "text": [
      "[[7799 2821]\n",
      " [1371 9170]]\n"
     ]
    }
   ],
   "source": [
    "print(confusion_matrix(y_test, y_predict))"
   ]
  },
  {
   "cell_type": "code",
   "execution_count": 77,
   "metadata": {},
   "outputs": [
    {
     "name": "stdout",
     "output_type": "stream",
     "text": [
      "              precision    recall  f1-score   support\n",
      "\n",
      "         0.0       0.85      0.73      0.79     10620\n",
      "         1.0       0.76      0.87      0.81     10541\n",
      "\n",
      "    accuracy                           0.80     21161\n",
      "   macro avg       0.81      0.80      0.80     21161\n",
      "weighted avg       0.81      0.80      0.80     21161\n",
      "\n"
     ]
    }
   ],
   "source": [
    "print(classification_report(y_test, y_predict))"
   ]
  },
  {
   "cell_type": "markdown",
   "metadata": {},
   "source": [
    "SVM"
   ]
  },
  {
   "cell_type": "code",
   "execution_count": 29,
   "metadata": {},
   "outputs": [],
   "source": [
    "svc_basic = svm.SVC()\n",
    "y_predict = svc_basic.fit(X_train, y_train).predict(X_test)"
   ]
  },
  {
   "cell_type": "code",
   "execution_count": null,
   "metadata": {},
   "outputs": [],
   "source": [
    "scores = cross_val_score(svc_basic, X3_resample, y3_resample, cv = 10)\n",
    "print('SVC:',accuracy_score(y_test, y_predict))\n",
    "print('Accuracy score of SVC with CV: ', scores.mean())"
   ]
  },
  {
   "cell_type": "code",
   "execution_count": null,
   "metadata": {},
   "outputs": [],
   "source": [
    "print(confusion_matrix(y_test, y_predict))"
   ]
  },
  {
   "cell_type": "markdown",
   "metadata": {},
   "source": [
    "Logistic Regression"
   ]
  },
  {
   "cell_type": "code",
   "execution_count": 78,
   "metadata": {},
   "outputs": [],
   "source": [
    "lr_basic = LogisticRegression()\n",
    "y_predict = lr_basic.fit(X_train, y_train).predict(X_test)"
   ]
  },
  {
   "cell_type": "code",
   "execution_count": 79,
   "metadata": {},
   "outputs": [
    {
     "data": {
      "image/png": "[encoded data removed]",
      "text/plain": [
       "<Figure size 432x288 with 1 Axes>"
      ]
     },
     "metadata": {
      "needs_background": "light"
     },
     "output_type": "display_data"
    }
   ],
   "source": [
    "# Compute ROC curve and ROC area   \n",
    "y_pred_proba = lr_basic.predict_proba(X_test)[:,1]\n",
    "lr_fpr, lr_tpr, _ = metrics.roc_curve(y_test,  y_pred_proba)\n",
    "lr_roc_auc = metrics.auc(lr_fpr, lr_tpr)\n",
    "\n",
    "\n",
    "# Plot of a ROC curve \n",
    "plt.figure()\n",
    "plt.plot(lr_fpr, lr_tpr, label='Perosn LR ROC curve (area = %0.4f)' % lr_roc_auc)\n",
    "plt.plot([0, 1], [0, 1], 'k--')\n",
    "plt.xlim([0.0, 1.00])\n",
    "plt.ylim([0.0, 1.00])\n",
    "plt.xlabel('False Positive Rate')\n",
    "plt.ylabel('True Positive Rate')\n",
    "plt.title('Receiver operating characteristic')\n",
    "plt.legend(loc=\"lower right\")\n",
    "plt.show()"
   ]
  },
  {
   "cell_type": "code",
   "execution_count": 80,
   "metadata": {},
   "outputs": [
    {
     "name": "stdout",
     "output_type": "stream",
     "text": [
      "lr_basic: 0.49813335853693114\n",
      "Accuracy score of lr_basic with CV:  0.4999716432723663\n"
     ]
    }
   ],
   "source": [
    "scores = cross_val_score(lr_basic, X3_resample, y3_resample, cv = 10)\n",
    "print('lr_basic:',accuracy_score(y_test, y_predict))\n",
    "print('Accuracy score of lr_basic with CV: ', scores.mean())"
   ]
  },
  {
   "cell_type": "code",
   "execution_count": 81,
   "metadata": {},
   "outputs": [
    {
     "name": "stdout",
     "output_type": "stream",
     "text": [
      "[[    0 10620]\n",
      " [    0 10541]]\n"
     ]
    }
   ],
   "source": [
    "print(confusion_matrix(y_test, y_predict))"
   ]
  },
  {
   "cell_type": "code",
   "execution_count": 83,
   "metadata": {},
   "outputs": [
    {
     "name": "stdout",
     "output_type": "stream",
     "text": [
      "              precision    recall  f1-score   support\n",
      "\n",
      "         0.0       0.00      0.00      0.00     10620\n",
      "         1.0       0.50      1.00      0.67     10541\n",
      "\n",
      "    accuracy                           0.50     21161\n",
      "   macro avg       0.25      0.50      0.33     21161\n",
      "weighted avg       0.25      0.50      0.33     21161\n",
      "\n"
     ]
    },
    {
     "name": "stderr",
     "output_type": "stream",
     "text": [
      "C:\\Users\\ZeWu\\Anaconda3\\lib\\site-packages\\sklearn\\metrics\\_classification.py:1221: UndefinedMetricWarning: Precision and F-score are ill-defined and being set to 0.0 in labels with no predicted samples. Use `zero_division` parameter to control this behavior.\n",
      "  _warn_prf(average, modifier, msg_start, len(result))\n"
     ]
    }
   ],
   "source": [
    "print(classification_report(y_test, y_predict))"
   ]
  },
  {
   "cell_type": "code",
   "execution_count": 84,
   "metadata": {},
   "outputs": [
    {
     "data": {
      "image/png": "[encoded data removed]",
      "text/plain": [
       "<Figure size 432x288 with 1 Axes>"
      ]
     },
     "metadata": {
      "needs_background": "light"
     },
     "output_type": "display_data"
    }
   ],
   "source": [
    "# merge roc_auc into one curve\n",
    "plt.figure()\n",
    "plt.plot(dt_fpr, dt_tpr, color='darkorange',\n",
    "         lw=2, label='V_DT ROC curve (area = %0.4f)' % dt_roc_auc)\n",
    "plt.plot(rf_fpr, rf_tpr, color='darkgreen',\n",
    "         lw=2, label='V_RF ROC curve (area = %0.4f)' % rf_roc_auc)\n",
    "plt.plot(knn_fpr, knn_tpr, color='red',\n",
    "         lw=2, label='V_KNN ROC curve (area = %0.4f)' % knn_roc_auc)\n",
    "plt.plot(lr_fpr, lr_tpr, color='orange',\n",
    "         lw=2, label='V_LR ROC curve (area = %0.4f)' % lr_roc_auc)\n",
    "plt.plot([0, 1], [0, 1], color='navy', lw=2, linestyle='--')\n",
    "plt.xlim([0.0, 1.0])\n",
    "plt.ylim([0.0, 1.05])\n",
    "plt.xlabel('False Positive Rate')\n",
    "plt.ylabel('True Positive Rate')\n",
    "plt.title('ROC Curve')\n",
    "plt.legend(loc=\"lower right\")\n",
    "plt.show()"
   ]
  },
  {
   "cell_type": "markdown",
   "metadata": {},
   "source": [
    "Use data frame to show the resluts"
   ]
  },
  {
   "cell_type": "code",
   "execution_count": 85,
   "metadata": {},
   "outputs": [],
   "source": [
    "MLA = [\n",
    "    linear_model.LogisticRegressionCV(),\n",
    "    naive_bayes.GaussianNB(),\n",
    "    KNeighborsClassifier(),\n",
    "    tree.DecisionTreeClassifier(),\n",
    "    ensemble.RandomForestClassifier(),\n",
    "    svm.SVC()\n",
    "]"
   ]
  },
  {
   "cell_type": "code",
   "execution_count": 86,
   "metadata": {},
   "outputs": [
    {
     "name": "stderr",
     "output_type": "stream",
     "text": [
      "C:\\Users\\ZeWu\\Anaconda3\\lib\\site-packages\\sklearn\\linear_model\\_logistic.py:762: ConvergenceWarning: lbfgs failed to converge (status=2):\n",
      "ABNORMAL_TERMINATION_IN_LNSRCH.\n",
      "\n",
      "Increase the number of iterations (max_iter) or scale the data as shown in:\n",
      "    https://scikit-learn.org/stable/modules/preprocessing.html\n",
      "Please also refer to the documentation for alternative solver options:\n",
      "    https://scikit-learn.org/stable/modules/linear_model.html#logistic-regression\n",
      "  n_iter_i = _check_optimize_result(\n",
      "C:\\Users\\ZeWu\\Anaconda3\\lib\\site-packages\\sklearn\\linear_model\\_logistic.py:762: ConvergenceWarning: lbfgs failed to converge (status=2):\n",
      "ABNORMAL_TERMINATION_IN_LNSRCH.\n",
      "\n",
      "Increase the number of iterations (max_iter) or scale the data as shown in:\n",
      "    https://scikit-learn.org/stable/modules/preprocessing.html\n",
      "Please also refer to the documentation for alternative solver options:\n",
      "    https://scikit-learn.org/stable/modules/linear_model.html#logistic-regression\n",
      "  n_iter_i = _check_optimize_result(\n",
      "C:\\Users\\ZeWu\\Anaconda3\\lib\\site-packages\\sklearn\\linear_model\\_logistic.py:762: ConvergenceWarning: lbfgs failed to converge (status=2):\n",
      "ABNORMAL_TERMINATION_IN_LNSRCH.\n",
      "\n",
      "Increase the number of iterations (max_iter) or scale the data as shown in:\n",
      "    https://scikit-learn.org/stable/modules/preprocessing.html\n",
      "Please also refer to the documentation for alternative solver options:\n",
      "    https://scikit-learn.org/stable/modules/linear_model.html#logistic-regression\n",
      "  n_iter_i = _check_optimize_result(\n",
      "C:\\Users\\ZeWu\\Anaconda3\\lib\\site-packages\\sklearn\\linear_model\\_logistic.py:762: ConvergenceWarning: lbfgs failed to converge (status=2):\n",
      "ABNORMAL_TERMINATION_IN_LNSRCH.\n",
      "\n",
      "Increase the number of iterations (max_iter) or scale the data as shown in:\n",
      "    https://scikit-learn.org/stable/modules/preprocessing.html\n",
      "Please also refer to the documentation for alternative solver options:\n",
      "    https://scikit-learn.org/stable/modules/linear_model.html#logistic-regression\n",
      "  n_iter_i = _check_optimize_result(\n",
      "C:\\Users\\ZeWu\\Anaconda3\\lib\\site-packages\\sklearn\\linear_model\\_logistic.py:762: ConvergenceWarning: lbfgs failed to converge (status=2):\n",
      "ABNORMAL_TERMINATION_IN_LNSRCH.\n",
      "\n",
      "Increase the number of iterations (max_iter) or scale the data as shown in:\n",
      "    https://scikit-learn.org/stable/modules/preprocessing.html\n",
      "Please also refer to the documentation for alternative solver options:\n",
      "    https://scikit-learn.org/stable/modules/linear_model.html#logistic-regression\n",
      "  n_iter_i = _check_optimize_result(\n",
      "C:\\Users\\ZeWu\\Anaconda3\\lib\\site-packages\\sklearn\\linear_model\\_logistic.py:762: ConvergenceWarning: lbfgs failed to converge (status=2):\n",
      "ABNORMAL_TERMINATION_IN_LNSRCH.\n",
      "\n",
      "Increase the number of iterations (max_iter) or scale the data as shown in:\n",
      "    https://scikit-learn.org/stable/modules/preprocessing.html\n",
      "Please also refer to the documentation for alternative solver options:\n",
      "    https://scikit-learn.org/stable/modules/linear_model.html#logistic-regression\n",
      "  n_iter_i = _check_optimize_result(\n",
      "C:\\Users\\ZeWu\\Anaconda3\\lib\\site-packages\\sklearn\\linear_model\\_logistic.py:762: ConvergenceWarning: lbfgs failed to converge (status=2):\n",
      "ABNORMAL_TERMINATION_IN_LNSRCH.\n",
      "\n",
      "Increase the number of iterations (max_iter) or scale the data as shown in:\n",
      "    https://scikit-learn.org/stable/modules/preprocessing.html\n",
      "Please also refer to the documentation for alternative solver options:\n",
      "    https://scikit-learn.org/stable/modules/linear_model.html#logistic-regression\n",
      "  n_iter_i = _check_optimize_result(\n",
      "C:\\Users\\ZeWu\\Anaconda3\\lib\\site-packages\\sklearn\\linear_model\\_logistic.py:762: ConvergenceWarning: lbfgs failed to converge (status=2):\n",
      "ABNORMAL_TERMINATION_IN_LNSRCH.\n",
      "\n",
      "Increase the number of iterations (max_iter) or scale the data as shown in:\n",
      "    https://scikit-learn.org/stable/modules/preprocessing.html\n",
      "Please also refer to the documentation for alternative solver options:\n",
      "    https://scikit-learn.org/stable/modules/linear_model.html#logistic-regression\n",
      "  n_iter_i = _check_optimize_result(\n",
      "C:\\Users\\ZeWu\\Anaconda3\\lib\\site-packages\\sklearn\\linear_model\\_logistic.py:762: ConvergenceWarning: lbfgs failed to converge (status=2):\n",
      "ABNORMAL_TERMINATION_IN_LNSRCH.\n",
      "\n",
      "Increase the number of iterations (max_iter) or scale the data as shown in:\n",
      "    https://scikit-learn.org/stable/modules/preprocessing.html\n",
      "Please also refer to the documentation for alternative solver options:\n",
      "    https://scikit-learn.org/stable/modules/linear_model.html#logistic-regression\n",
      "  n_iter_i = _check_optimize_result(\n",
      "C:\\Users\\ZeWu\\Anaconda3\\lib\\site-packages\\sklearn\\linear_model\\_logistic.py:762: ConvergenceWarning: lbfgs failed to converge (status=2):\n",
      "ABNORMAL_TERMINATION_IN_LNSRCH.\n",
      "\n",
      "Increase the number of iterations (max_iter) or scale the data as shown in:\n",
      "    https://scikit-learn.org/stable/modules/preprocessing.html\n",
      "Please also refer to the documentation for alternative solver options:\n",
      "    https://scikit-learn.org/stable/modules/linear_model.html#logistic-regression\n",
      "  n_iter_i = _check_optimize_result(\n",
      "C:\\Users\\ZeWu\\Anaconda3\\lib\\site-packages\\sklearn\\linear_model\\_logistic.py:762: ConvergenceWarning: lbfgs failed to converge (status=2):\n",
      "ABNORMAL_TERMINATION_IN_LNSRCH.\n",
      "\n",
      "Increase the number of iterations (max_iter) or scale the data as shown in:\n",
      "    https://scikit-learn.org/stable/modules/preprocessing.html\n",
      "Please also refer to the documentation for alternative solver options:\n",
      "    https://scikit-learn.org/stable/modules/linear_model.html#logistic-regression\n",
      "  n_iter_i = _check_optimize_result(\n",
      "C:\\Users\\ZeWu\\Anaconda3\\lib\\site-packages\\sklearn\\linear_model\\_logistic.py:762: ConvergenceWarning: lbfgs failed to converge (status=2):\n",
      "ABNORMAL_TERMINATION_IN_LNSRCH.\n",
      "\n",
      "Increase the number of iterations (max_iter) or scale the data as shown in:\n",
      "    https://scikit-learn.org/stable/modules/preprocessing.html\n",
      "Please also refer to the documentation for alternative solver options:\n",
      "    https://scikit-learn.org/stable/modules/linear_model.html#logistic-regression\n",
      "  n_iter_i = _check_optimize_result(\n",
      "C:\\Users\\ZeWu\\Anaconda3\\lib\\site-packages\\sklearn\\linear_model\\_logistic.py:762: ConvergenceWarning: lbfgs failed to converge (status=2):\n",
      "ABNORMAL_TERMINATION_IN_LNSRCH.\n",
      "\n",
      "Increase the number of iterations (max_iter) or scale the data as shown in:\n",
      "    https://scikit-learn.org/stable/modules/preprocessing.html\n",
      "Please also refer to the documentation for alternative solver options:\n",
      "    https://scikit-learn.org/stable/modules/linear_model.html#logistic-regression\n",
      "  n_iter_i = _check_optimize_result(\n",
      "C:\\Users\\ZeWu\\Anaconda3\\lib\\site-packages\\sklearn\\linear_model\\_logistic.py:762: ConvergenceWarning: lbfgs failed to converge (status=2):\n",
      "ABNORMAL_TERMINATION_IN_LNSRCH.\n",
      "\n",
      "Increase the number of iterations (max_iter) or scale the data as shown in:\n",
      "    https://scikit-learn.org/stable/modules/preprocessing.html\n",
      "Please also refer to the documentation for alternative solver options:\n",
      "    https://scikit-learn.org/stable/modules/linear_model.html#logistic-regression\n",
      "  n_iter_i = _check_optimize_result(\n",
      "C:\\Users\\ZeWu\\Anaconda3\\lib\\site-packages\\sklearn\\linear_model\\_logistic.py:762: ConvergenceWarning: lbfgs failed to converge (status=2):\n",
      "ABNORMAL_TERMINATION_IN_LNSRCH.\n",
      "\n",
      "Increase the number of iterations (max_iter) or scale the data as shown in:\n",
      "    https://scikit-learn.org/stable/modules/preprocessing.html\n",
      "Please also refer to the documentation for alternative solver options:\n",
      "    https://scikit-learn.org/stable/modules/linear_model.html#logistic-regression\n",
      "  n_iter_i = _check_optimize_result(\n"
     ]
    },
    {
     "data": {
      "text/html": [
       "<div>\n",
       "<style scoped>\n",
       "    .dataframe tbody tr th:only-of-type {\n",
       "        vertical-align: middle;\n",
       "    }\n",
       "\n",
       "    .dataframe tbody tr th {\n",
       "        vertical-align: top;\n",
       "    }\n",
       "\n",
       "    .dataframe thead th {\n",
       "        text-align: right;\n",
       "    }\n",
       "</style>\n",
       "<table border=\"1\" class=\"dataframe\">\n",
       "  <thead>\n",
       "    <tr style=\"text-align: right;\">\n",
       "      <th></th>\n",
       "      <th>MLA Name</th>\n",
       "      <th>Precision</th>\n",
       "      <th>AUC</th>\n",
       "    </tr>\n",
       "  </thead>\n",
       "  <tbody>\n",
       "    <tr>\n",
       "      <th>4</th>\n",
       "      <td>RandomForestClassifier</td>\n",
       "      <td>0.910489</td>\n",
       "      <td>0.923216</td>\n",
       "    </tr>\n",
       "    <tr>\n",
       "      <th>3</th>\n",
       "      <td>DecisionTreeClassifier</td>\n",
       "      <td>0.896870</td>\n",
       "      <td>0.896123</td>\n",
       "    </tr>\n",
       "    <tr>\n",
       "      <th>2</th>\n",
       "      <td>KNeighborsClassifier</td>\n",
       "      <td>0.764740</td>\n",
       "      <td>0.802153</td>\n",
       "    </tr>\n",
       "    <tr>\n",
       "      <th>1</th>\n",
       "      <td>GaussianNB</td>\n",
       "      <td>0.801076</td>\n",
       "      <td>0.781974</td>\n",
       "    </tr>\n",
       "    <tr>\n",
       "      <th>0</th>\n",
       "      <td>LogisticRegressionCV</td>\n",
       "      <td>0.519694</td>\n",
       "      <td>0.523437</td>\n",
       "    </tr>\n",
       "    <tr>\n",
       "      <th>5</th>\n",
       "      <td>SVC</td>\n",
       "      <td>0.498133</td>\n",
       "      <td>0.500000</td>\n",
       "    </tr>\n",
       "  </tbody>\n",
       "</table>\n",
       "</div>"
      ],
      "text/plain": [
       "                 MLA Name  Precision       AUC\n",
       "4  RandomForestClassifier   0.910489  0.923216\n",
       "3  DecisionTreeClassifier   0.896870  0.896123\n",
       "2    KNeighborsClassifier   0.764740  0.802153\n",
       "1              GaussianNB   0.801076  0.781974\n",
       "0    LogisticRegressionCV   0.519694  0.523437\n",
       "5                     SVC   0.498133  0.500000"
      ]
     },
     "execution_count": 86,
     "metadata": {},
     "output_type": "execute_result"
    }
   ],
   "source": [
    "MLA_columns = []\n",
    "MLA_compare = pd.DataFrame(columns = MLA_columns)\n",
    "\n",
    "row_index = 0\n",
    "for alg in MLA:\n",
    "    predicted = alg.fit(X_train, y_train).predict(X_test)\n",
    "    fp, tp, th = roc_curve(y_test, predicted)\n",
    "    MLA_name = alg.__class__.__name__\n",
    "    MLA_compare.loc[row_index,'MLA Name'] = MLA_name\n",
    "    MLA_compare.loc[row_index, 'Precision'] = precision_score(y_test, predicted)\n",
    "    MLA_compare.loc[row_index, 'AUC'] = metrics.auc(fp, tp)\n",
    "    \n",
    "    row_index+=1\n",
    "MLA_compare.sort_values(by = ['AUC'], ascending = False, inplace = True)\n",
    "MLA_compare"
   ]
  },
  {
   "cell_type": "code",
   "execution_count": null,
   "metadata": {},
   "outputs": [],
   "source": []
  },
  {
   "cell_type": "code",
   "execution_count": null,
   "metadata": {},
   "outputs": [],
   "source": []
  },
  {
   "cell_type": "code",
   "execution_count": 87,
   "metadata": {},
   "outputs": [],
   "source": [
    "########\n",
    "## 'MAXSEV_IM' is dependent variable\n",
    "y4 = v_data_dropped['MAXSEV_IM'].replace([2,3,4,5,6],1)\n",
    "# get object list\n",
    "object_list = list(v_data_dropped.select_dtypes(include=['object']).columns)\n",
    "\n",
    "x4 = v_data_dropped.drop(['CASENUM','DR_ZIP','MXVSEV_IM','MAXSEV_IM','NUMINJ_IM','STRATUM','VE_TOTAL','VE_FORMS','PVH_INVL','PERNOTMVIT','TYP_INT','EVENT1_IM','MANCOL_IM','RELJCT1_IM','RELJCT2_IM','NO_INJ_IM'],axis = 1)\n",
    "x4 = x4.drop(object_list, axis=1)"
   ]
  },
  {
   "cell_type": "code",
   "execution_count": 88,
   "metadata": {},
   "outputs": [
    {
     "data": {
      "image/png": "[encoded data removed]",
      "text/plain": [
       "<Figure size 432x288 with 1 Axes>"
      ]
     },
     "metadata": {
      "needs_background": "light"
     },
     "output_type": "display_data"
    }
   ],
   "source": [
    "plt.hist(y4, 20,\n",
    "         density=True,\n",
    "         histtype='bar',\n",
    "         facecolor='b',\n",
    "         alpha=0.5)\n",
    "\n",
    "plt.show()"
   ]
  },
  {
   "cell_type": "code",
   "execution_count": 89,
   "metadata": {},
   "outputs": [
    {
     "data": {
      "text/plain": [
       "array([[ 1.69223659e-01,  9.08336693e-03, -1.11060914e+00, ...,\n",
       "         5.38825365e-01, -7.92499284e-01, -1.22271195e-01],\n",
       "       [ 1.69223659e-01,  9.08336693e-03, -1.10520790e+00, ...,\n",
       "        -6.64605750e-01, -1.66191637e+00, -1.22271195e-01],\n",
       "       [ 1.69223659e-01,  9.08336693e-03, -1.10520790e+00, ...,\n",
       "        -6.64605750e-01,  6.56529191e-01, -1.22271195e-01],\n",
       "       ...,\n",
       "       [ 1.66506859e+00,  7.18499398e-01, -9.55773629e-01, ...,\n",
       "        -5.44262638e-01, -1.66191637e+00, -1.22271195e-01],\n",
       "       [ 1.66506859e+00,  7.18499398e-01, -9.55773629e-01, ...,\n",
       "        -6.64605750e-01, -1.66191637e+00, -1.22271195e-01],\n",
       "       [ 1.66506859e+00,  7.18499398e-01, -9.55773629e-01, ...,\n",
       "         1.50157026e+00,  6.56529191e-01,  1.08651226e+01]])"
      ]
     },
     "execution_count": 89,
     "metadata": {},
     "output_type": "execute_result"
    }
   ],
   "source": [
    "#Normalized\n",
    "scaler = StandardScaler()\n",
    "scaler.fit(x4)\n",
    "scaler.transform(x4)"
   ]
  },
  {
   "cell_type": "code",
   "execution_count": 90,
   "metadata": {},
   "outputs": [],
   "source": [
    "X_train, X_test, y_train, y_test = train_test_split(x4, y4, test_size=0.3, random_state=42)"
   ]
  },
  {
   "cell_type": "markdown",
   "metadata": {},
   "source": [
    "Decision Tree"
   ]
  },
  {
   "cell_type": "code",
   "execution_count": 91,
   "metadata": {},
   "outputs": [],
   "source": [
    "dt_basic = DecisionTreeClassifier()\n",
    "y_predict = dt_basic.fit(X_train, y_train).predict(X_test)"
   ]
  },
  {
   "cell_type": "code",
   "execution_count": 92,
   "metadata": {},
   "outputs": [
    {
     "data": {
      "image/png": "[encoded data removed]",
      "text/plain": [
       "<Figure size 432x288 with 1 Axes>"
      ]
     },
     "metadata": {
      "needs_background": "light"
     },
     "output_type": "display_data"
    }
   ],
   "source": [
    "# Compute ROC curve and ROC area   \n",
    "y_pred_proba = dt_basic.predict_proba(X_test)[:,1]\n",
    "dt1_fpr, dt1_tpr, _ = metrics.roc_curve(y_test,  y_pred_proba)\n",
    "dt1_roc_auc = metrics.auc(dt1_fpr, dt1_tpr)\n",
    "\n",
    "\n",
    "# Plot of a ROC curve \n",
    "plt.figure()\n",
    "plt.plot(dt1_fpr, dt1_tpr, label='Decision Tree ROC curve (area = %0.4f)' % dt1_roc_auc)\n",
    "plt.plot([0, 1], [0, 1], 'k--')\n",
    "plt.xlim([0.0, 1.00])\n",
    "plt.ylim([0.0, 1.05])\n",
    "plt.xlabel('False Positive Rate')\n",
    "plt.ylabel('True Positive Rate')\n",
    "plt.title('Receiver operating characteristic')\n",
    "plt.legend(loc=\"lower right\")\n",
    "plt.show()"
   ]
  },
  {
   "cell_type": "code",
   "execution_count": 93,
   "metadata": {},
   "outputs": [
    {
     "name": "stdout",
     "output_type": "stream",
     "text": [
      "Feature importance by decision tree\n"
     ]
    },
    {
     "data": {
      "image/png": "[encoded data removed]",
      "text/plain": [
       "<Figure size 432x288 with 1 Axes>"
      ]
     },
     "metadata": {
      "needs_background": "light"
     },
     "output_type": "display_data"
    }
   ],
   "source": [
    "# feature importance\n",
    "print('Feature importance by decision tree')\n",
    "feat_importances = pd.Series(dt_basic.feature_importances_, index=x4.columns)\n",
    "feat_importances.nlargest(20).plot(kind='barh')\n",
    "pyplot.show()"
   ]
  },
  {
   "cell_type": "code",
   "execution_count": 94,
   "metadata": {},
   "outputs": [
    {
     "name": "stdout",
     "output_type": "stream",
     "text": [
      "dt_basic: 0.9626089218363897\n",
      "Accuracy score of dt_basic with CV:  0.955598907530238\n"
     ]
    }
   ],
   "source": [
    "scores = cross_val_score(dt_basic, x4, y4, cv = 10)\n",
    "print('dt_basic:',accuracy_score(y_test, y_predict))\n",
    "print('Accuracy score of dt_basic with CV: ', scores.mean())"
   ]
  },
  {
   "cell_type": "code",
   "execution_count": 95,
   "metadata": {},
   "outputs": [
    {
     "name": "stdout",
     "output_type": "stream",
     "text": [
      "[[7320  312]\n",
      " [ 263 7483]]\n"
     ]
    }
   ],
   "source": [
    "print(confusion_matrix(y_test, y_predict))"
   ]
  },
  {
   "cell_type": "code",
   "execution_count": 96,
   "metadata": {},
   "outputs": [
    {
     "name": "stdout",
     "output_type": "stream",
     "text": [
      "              precision    recall  f1-score   support\n",
      "\n",
      "           0       0.97      0.96      0.96      7632\n",
      "           1       0.96      0.97      0.96      7746\n",
      "\n",
      "    accuracy                           0.96     15378\n",
      "   macro avg       0.96      0.96      0.96     15378\n",
      "weighted avg       0.96      0.96      0.96     15378\n",
      "\n"
     ]
    }
   ],
   "source": [
    "print(classification_report(y_test, y_predict))"
   ]
  },
  {
   "cell_type": "markdown",
   "metadata": {},
   "source": [
    "Random Forest"
   ]
  },
  {
   "cell_type": "code",
   "execution_count": 97,
   "metadata": {},
   "outputs": [],
   "source": [
    "rf_basic = RandomForestClassifier()\n",
    "y_predict = rf_basic.fit(X_train, y_train).predict(X_test)"
   ]
  },
  {
   "cell_type": "code",
   "execution_count": 99,
   "metadata": {},
   "outputs": [
    {
     "data": {
      "image/png": "[encoded data removed]",
      "text/plain": [
       "<Figure size 432x288 with 1 Axes>"
      ]
     },
     "metadata": {
      "needs_background": "light"
     },
     "output_type": "display_data"
    }
   ],
   "source": [
    "# Compute ROC curve and ROC area   \n",
    "y_pred_proba = rf_basic.predict_proba(X_test)[:,1]\n",
    "rf1_fpr, rf1_tpr, _ = metrics.roc_curve(y_test,  y_pred_proba)\n",
    "rf1_roc_auc = metrics.auc(rf1_fpr, rf1_tpr)\n",
    "\n",
    "\n",
    "# Plot of a ROC curve \n",
    "plt.figure()\n",
    "plt.plot(rf1_fpr, rf1_tpr, label='Decision Tree ROC curve (area = %0.4f)' % rf1_roc_auc)\n",
    "plt.plot([0, 1], [0, 1], 'k--')\n",
    "plt.xlim([0.0, 1.00])\n",
    "plt.ylim([0.0, 1.00])\n",
    "plt.xlabel('False Positive Rate')\n",
    "plt.ylabel('True Positive Rate')\n",
    "plt.title('Receiver operating characteristic')\n",
    "plt.legend(loc=\"lower right\")\n",
    "plt.show()"
   ]
  },
  {
   "cell_type": "code",
   "execution_count": 100,
   "metadata": {},
   "outputs": [
    {
     "name": "stdout",
     "output_type": "stream",
     "text": [
      "rf_basic: 0.9629990896085316\n",
      "Accuracy score of rf_basic with CV:  0.9596371439719078\n"
     ]
    }
   ],
   "source": [
    "scores = cross_val_score(rf_basic, x4, y4, cv = 10)\n",
    "print('rf_basic:',accuracy_score(y_test, y_predict))\n",
    "print('Accuracy score of rf_basic with CV: ', scores.mean())"
   ]
  },
  {
   "cell_type": "code",
   "execution_count": 101,
   "metadata": {},
   "outputs": [
    {
     "name": "stdout",
     "output_type": "stream",
     "text": [
      "Feature importance by Random Forest\n"
     ]
    },
    {
     "data": {
      "image/png": "[encoded data removed]",
      "text/plain": [
       "<Figure size 432x288 with 1 Axes>"
      ]
     },
     "metadata": {
      "needs_background": "light"
     },
     "output_type": "display_data"
    }
   ],
   "source": [
    "# feature importance\n",
    "print('Feature importance by Random Forest')\n",
    "feat_importances = pd.Series(rf_basic.feature_importances_, index=x4.columns)\n",
    "feat_importances.nlargest(20).plot(kind='barh')\n",
    "pyplot.show()"
   ]
  },
  {
   "cell_type": "code",
   "execution_count": 102,
   "metadata": {},
   "outputs": [
    {
     "name": "stdout",
     "output_type": "stream",
     "text": [
      "[[7368  264]\n",
      " [ 305 7441]]\n"
     ]
    }
   ],
   "source": [
    "print(confusion_matrix(y_test, y_predict))"
   ]
  },
  {
   "cell_type": "code",
   "execution_count": 103,
   "metadata": {},
   "outputs": [
    {
     "name": "stdout",
     "output_type": "stream",
     "text": [
      "              precision    recall  f1-score   support\n",
      "\n",
      "           0       0.96      0.97      0.96      7632\n",
      "           1       0.97      0.96      0.96      7746\n",
      "\n",
      "    accuracy                           0.96     15378\n",
      "   macro avg       0.96      0.96      0.96     15378\n",
      "weighted avg       0.96      0.96      0.96     15378\n",
      "\n"
     ]
    }
   ],
   "source": [
    "print(classification_report(y_test, y_predict))"
   ]
  },
  {
   "cell_type": "markdown",
   "metadata": {},
   "source": [
    "KNN"
   ]
  },
  {
   "cell_type": "code",
   "execution_count": 104,
   "metadata": {},
   "outputs": [],
   "source": [
    "knn_basic = KNeighborsClassifier()\n",
    "y_predict = knn_basic.fit(X_train, y_train).predict(X_test)"
   ]
  },
  {
   "cell_type": "code",
   "execution_count": 106,
   "metadata": {},
   "outputs": [
    {
     "data": {
      "image/png": "[encoded data removed]",
      "text/plain": [
       "<Figure size 432x288 with 1 Axes>"
      ]
     },
     "metadata": {
      "needs_background": "light"
     },
     "output_type": "display_data"
    }
   ],
   "source": [
    "# Compute ROC curve and ROC area   \n",
    "y_pred_proba = knn_basic.predict_proba(X_test)[:,1]\n",
    "knn1_fpr, knn1_tpr, _ = metrics.roc_curve(y_test,  y_pred_proba)\n",
    "knn1_roc_auc = metrics.auc(knn1_fpr, knn1_tpr)\n",
    "\n",
    "\n",
    "# Plot of a ROC curve \n",
    "plt.figure()\n",
    "plt.plot(knn1_fpr, knn1_tpr, label='Decision Tree ROC curve (area = %0.4f)' % knn1_roc_auc)\n",
    "plt.plot([0, 1], [0, 1], 'k--')\n",
    "plt.xlim([0.0, 1.00])\n",
    "plt.ylim([0.0, 1.00])\n",
    "plt.xlabel('False Positive Rate')\n",
    "plt.ylabel('True Positive Rate')\n",
    "plt.title('Receiver operating characteristic')\n",
    "plt.legend(loc=\"lower right\")\n",
    "plt.show()"
   ]
  },
  {
   "cell_type": "code",
   "execution_count": 107,
   "metadata": {},
   "outputs": [
    {
     "name": "stdout",
     "output_type": "stream",
     "text": [
      "knn_basic: 0.8314475224346469\n",
      "Accuracy score of knn_basic with CV:  0.8299648849005073\n"
     ]
    }
   ],
   "source": [
    "scores = cross_val_score(knn_basic, x4, y4, cv = 10)\n",
    "print('knn_basic:',accuracy_score(y_test, y_predict))\n",
    "print('Accuracy score of knn_basic with CV: ', scores.mean())"
   ]
  },
  {
   "cell_type": "code",
   "execution_count": 108,
   "metadata": {},
   "outputs": [
    {
     "name": "stdout",
     "output_type": "stream",
     "text": [
      "[[6735  897]\n",
      " [1695 6051]]\n"
     ]
    }
   ],
   "source": [
    "print(confusion_matrix(y_test, y_predict))"
   ]
  },
  {
   "cell_type": "code",
   "execution_count": 109,
   "metadata": {},
   "outputs": [
    {
     "name": "stdout",
     "output_type": "stream",
     "text": [
      "              precision    recall  f1-score   support\n",
      "\n",
      "           0       0.80      0.88      0.84      7632\n",
      "           1       0.87      0.78      0.82      7746\n",
      "\n",
      "    accuracy                           0.83     15378\n",
      "   macro avg       0.83      0.83      0.83     15378\n",
      "weighted avg       0.84      0.83      0.83     15378\n",
      "\n"
     ]
    }
   ],
   "source": [
    "print(classification_report(y_test, y_predict))"
   ]
  },
  {
   "cell_type": "markdown",
   "metadata": {},
   "source": [
    "SVM"
   ]
  },
  {
   "cell_type": "code",
   "execution_count": null,
   "metadata": {},
   "outputs": [],
   "source": [
    "svc_basic = svm.SVC()\n",
    "y_predict = svc_basic.fit(X_train, y_train).predict(X_test)"
   ]
  },
  {
   "cell_type": "code",
   "execution_count": null,
   "metadata": {},
   "outputs": [],
   "source": [
    "scores = cross_val_score(svc_basic, x4, y4, cv = 10)\n",
    "print('SVC:',accuracy_score(y_test, y_predict))\n",
    "print('Accuracy score of SVC with CV: ', scores.mean())"
   ]
  },
  {
   "cell_type": "code",
   "execution_count": null,
   "metadata": {},
   "outputs": [],
   "source": [
    "print(confusion_matrix(y_test, y_predict))"
   ]
  },
  {
   "cell_type": "code",
   "execution_count": null,
   "metadata": {},
   "outputs": [],
   "source": []
  },
  {
   "cell_type": "markdown",
   "metadata": {},
   "source": [
    "Logistic Regression"
   ]
  },
  {
   "cell_type": "code",
   "execution_count": 110,
   "metadata": {},
   "outputs": [],
   "source": [
    "lr_basic = LogisticRegression()\n",
    "y_predict = lr_basic.fit(X_train, y_train).predict(X_test)"
   ]
  },
  {
   "cell_type": "code",
   "execution_count": 111,
   "metadata": {},
   "outputs": [
    {
     "data": {
      "image/png": "[encoded data removed]",
      "text/plain": [
       "<Figure size 432x288 with 1 Axes>"
      ]
     },
     "metadata": {
      "needs_background": "light"
     },
     "output_type": "display_data"
    }
   ],
   "source": [
    "# Compute ROC curve and ROC area   \n",
    "y_pred_proba = lr_basic.predict_proba(X_test)[:,1]\n",
    "lr1_fpr, lr1_tpr, _ = metrics.roc_curve(y_test,  y_pred_proba)\n",
    "lr1_roc_auc = metrics.auc(lr1_fpr, lr1_tpr)\n",
    "\n",
    "\n",
    "# Plot of a ROC curve \n",
    "plt.figure()\n",
    "plt.plot(lr1_fpr, lr1_tpr, label='M_LR ROC curve (area = %0.4f)' % lr1_roc_auc)\n",
    "plt.plot([0, 1], [0, 1], 'k--')\n",
    "plt.xlim([0.0, 1.00])\n",
    "plt.ylim([0.0, 1.05])\n",
    "plt.xlabel('False Positive Rate')\n",
    "plt.ylabel('True Positive Rate')\n",
    "plt.title('Receiver operating characteristic')\n",
    "plt.legend(loc=\"lower right\")\n",
    "plt.show()"
   ]
  },
  {
   "cell_type": "code",
   "execution_count": 112,
   "metadata": {},
   "outputs": [
    {
     "name": "stdout",
     "output_type": "stream",
     "text": [
      "lr_basic: 0.4962934061646508\n",
      "Accuracy score of lr_basic with CV:  0.5002536090518923\n"
     ]
    }
   ],
   "source": [
    "scores = cross_val_score(lr_basic, x4, y4, cv = 10)\n",
    "print('lr_basic:',accuracy_score(y_test, y_predict))\n",
    "print('Accuracy score of lr_basic with CV: ', scores.mean())"
   ]
  },
  {
   "cell_type": "code",
   "execution_count": 113,
   "metadata": {},
   "outputs": [
    {
     "name": "stdout",
     "output_type": "stream",
     "text": [
      "[[7632    0]\n",
      " [7746    0]]\n"
     ]
    }
   ],
   "source": [
    "print(confusion_matrix(y_test, y_predict))"
   ]
  },
  {
   "cell_type": "code",
   "execution_count": 114,
   "metadata": {},
   "outputs": [
    {
     "name": "stdout",
     "output_type": "stream",
     "text": [
      "              precision    recall  f1-score   support\n",
      "\n",
      "           0       0.50      1.00      0.66      7632\n",
      "           1       0.00      0.00      0.00      7746\n",
      "\n",
      "    accuracy                           0.50     15378\n",
      "   macro avg       0.25      0.50      0.33     15378\n",
      "weighted avg       0.25      0.50      0.33     15378\n",
      "\n"
     ]
    },
    {
     "name": "stderr",
     "output_type": "stream",
     "text": [
      "C:\\Users\\ZeWu\\Anaconda3\\lib\\site-packages\\sklearn\\metrics\\_classification.py:1221: UndefinedMetricWarning: Precision and F-score are ill-defined and being set to 0.0 in labels with no predicted samples. Use `zero_division` parameter to control this behavior.\n",
      "  _warn_prf(average, modifier, msg_start, len(result))\n"
     ]
    }
   ],
   "source": [
    "print(classification_report(y_test, y_predict))"
   ]
  },
  {
   "cell_type": "code",
   "execution_count": null,
   "metadata": {},
   "outputs": [],
   "source": []
  },
  {
   "cell_type": "code",
   "execution_count": 115,
   "metadata": {},
   "outputs": [
    {
     "data": {
      "image/png": "[encoded data removed]",
      "text/plain": [
       "<Figure size 432x288 with 1 Axes>"
      ]
     },
     "metadata": {
      "needs_background": "light"
     },
     "output_type": "display_data"
    }
   ],
   "source": [
    "# merge roc_auc into one curve\n",
    "plt.figure()\n",
    "plt.plot(dt1_fpr, dt1_tpr, color='darkorange',\n",
    "         lw=2, label='M_DT ROC curve (area = %0.4f)' % dt1_roc_auc)\n",
    "plt.plot(rf1_fpr, rf1_tpr, color='darkgreen',\n",
    "         lw=2, label='M_RF ROC curve (area = %0.4f)' % rf1_roc_auc)\n",
    "plt.plot(knn1_fpr, knn1_tpr, color='red',\n",
    "         lw=2, label='M_KNN ROC curve (area = %0.4f)' % knn1_roc_auc)\n",
    "plt.plot(lr1_fpr, lr1_tpr, color='orange',\n",
    "         lw=2, label='M_LR ROC curve (area = %0.4f)' % lr1_roc_auc)\n",
    "plt.plot([0, 1], [0, 1], color='navy', lw=2, linestyle='--')\n",
    "plt.xlim([0.0, 1.0])\n",
    "plt.ylim([0.0, 1.05])\n",
    "plt.xlabel('False Positive Rate')\n",
    "plt.ylabel('True Positive Rate')\n",
    "plt.title('ROC Curve')\n",
    "plt.legend(loc=\"lower right\")\n",
    "plt.show()"
   ]
  },
  {
   "cell_type": "markdown",
   "metadata": {},
   "source": [
    "Use dataframe to show results"
   ]
  },
  {
   "cell_type": "code",
   "execution_count": 116,
   "metadata": {},
   "outputs": [],
   "source": [
    "MLA = [\n",
    "    linear_model.LogisticRegressionCV(),\n",
    "    naive_bayes.GaussianNB(),\n",
    "    KNeighborsClassifier(),\n",
    "    tree.DecisionTreeClassifier(),\n",
    "    ensemble.RandomForestClassifier(n_estimators=100),\n",
    "    svm.SVC()\n",
    "]"
   ]
  },
  {
   "cell_type": "code",
   "execution_count": 117,
   "metadata": {},
   "outputs": [
    {
     "name": "stderr",
     "output_type": "stream",
     "text": [
      "C:\\Users\\ZeWu\\Anaconda3\\lib\\site-packages\\sklearn\\linear_model\\_logistic.py:762: ConvergenceWarning: lbfgs failed to converge (status=2):\n",
      "ABNORMAL_TERMINATION_IN_LNSRCH.\n",
      "\n",
      "Increase the number of iterations (max_iter) or scale the data as shown in:\n",
      "    https://scikit-learn.org/stable/modules/preprocessing.html\n",
      "Please also refer to the documentation for alternative solver options:\n",
      "    https://scikit-learn.org/stable/modules/linear_model.html#logistic-regression\n",
      "  n_iter_i = _check_optimize_result(\n",
      "C:\\Users\\ZeWu\\Anaconda3\\lib\\site-packages\\sklearn\\linear_model\\_logistic.py:762: ConvergenceWarning: lbfgs failed to converge (status=2):\n",
      "ABNORMAL_TERMINATION_IN_LNSRCH.\n",
      "\n",
      "Increase the number of iterations (max_iter) or scale the data as shown in:\n",
      "    https://scikit-learn.org/stable/modules/preprocessing.html\n",
      "Please also refer to the documentation for alternative solver options:\n",
      "    https://scikit-learn.org/stable/modules/linear_model.html#logistic-regression\n",
      "  n_iter_i = _check_optimize_result(\n",
      "C:\\Users\\ZeWu\\Anaconda3\\lib\\site-packages\\sklearn\\linear_model\\_logistic.py:762: ConvergenceWarning: lbfgs failed to converge (status=2):\n",
      "ABNORMAL_TERMINATION_IN_LNSRCH.\n",
      "\n",
      "Increase the number of iterations (max_iter) or scale the data as shown in:\n",
      "    https://scikit-learn.org/stable/modules/preprocessing.html\n",
      "Please also refer to the documentation for alternative solver options:\n",
      "    https://scikit-learn.org/stable/modules/linear_model.html#logistic-regression\n",
      "  n_iter_i = _check_optimize_result(\n",
      "C:\\Users\\ZeWu\\Anaconda3\\lib\\site-packages\\sklearn\\linear_model\\_logistic.py:762: ConvergenceWarning: lbfgs failed to converge (status=2):\n",
      "ABNORMAL_TERMINATION_IN_LNSRCH.\n",
      "\n",
      "Increase the number of iterations (max_iter) or scale the data as shown in:\n",
      "    https://scikit-learn.org/stable/modules/preprocessing.html\n",
      "Please also refer to the documentation for alternative solver options:\n",
      "    https://scikit-learn.org/stable/modules/linear_model.html#logistic-regression\n",
      "  n_iter_i = _check_optimize_result(\n",
      "C:\\Users\\ZeWu\\Anaconda3\\lib\\site-packages\\sklearn\\linear_model\\_logistic.py:762: ConvergenceWarning: lbfgs failed to converge (status=2):\n",
      "ABNORMAL_TERMINATION_IN_LNSRCH.\n",
      "\n",
      "Increase the number of iterations (max_iter) or scale the data as shown in:\n",
      "    https://scikit-learn.org/stable/modules/preprocessing.html\n",
      "Please also refer to the documentation for alternative solver options:\n",
      "    https://scikit-learn.org/stable/modules/linear_model.html#logistic-regression\n",
      "  n_iter_i = _check_optimize_result(\n",
      "C:\\Users\\ZeWu\\Anaconda3\\lib\\site-packages\\sklearn\\linear_model\\_logistic.py:762: ConvergenceWarning: lbfgs failed to converge (status=2):\n",
      "ABNORMAL_TERMINATION_IN_LNSRCH.\n",
      "\n",
      "Increase the number of iterations (max_iter) or scale the data as shown in:\n",
      "    https://scikit-learn.org/stable/modules/preprocessing.html\n",
      "Please also refer to the documentation for alternative solver options:\n",
      "    https://scikit-learn.org/stable/modules/linear_model.html#logistic-regression\n",
      "  n_iter_i = _check_optimize_result(\n",
      "C:\\Users\\ZeWu\\Anaconda3\\lib\\site-packages\\sklearn\\linear_model\\_logistic.py:762: ConvergenceWarning: lbfgs failed to converge (status=2):\n",
      "ABNORMAL_TERMINATION_IN_LNSRCH.\n",
      "\n",
      "Increase the number of iterations (max_iter) or scale the data as shown in:\n",
      "    https://scikit-learn.org/stable/modules/preprocessing.html\n",
      "Please also refer to the documentation for alternative solver options:\n",
      "    https://scikit-learn.org/stable/modules/linear_model.html#logistic-regression\n",
      "  n_iter_i = _check_optimize_result(\n",
      "C:\\Users\\ZeWu\\Anaconda3\\lib\\site-packages\\sklearn\\linear_model\\_logistic.py:762: ConvergenceWarning: lbfgs failed to converge (status=2):\n",
      "ABNORMAL_TERMINATION_IN_LNSRCH.\n",
      "\n",
      "Increase the number of iterations (max_iter) or scale the data as shown in:\n",
      "    https://scikit-learn.org/stable/modules/preprocessing.html\n",
      "Please also refer to the documentation for alternative solver options:\n",
      "    https://scikit-learn.org/stable/modules/linear_model.html#logistic-regression\n",
      "  n_iter_i = _check_optimize_result(\n",
      "C:\\Users\\ZeWu\\Anaconda3\\lib\\site-packages\\sklearn\\linear_model\\_logistic.py:762: ConvergenceWarning: lbfgs failed to converge (status=2):\n",
      "ABNORMAL_TERMINATION_IN_LNSRCH.\n",
      "\n",
      "Increase the number of iterations (max_iter) or scale the data as shown in:\n",
      "    https://scikit-learn.org/stable/modules/preprocessing.html\n",
      "Please also refer to the documentation for alternative solver options:\n",
      "    https://scikit-learn.org/stable/modules/linear_model.html#logistic-regression\n",
      "  n_iter_i = _check_optimize_result(\n",
      "C:\\Users\\ZeWu\\Anaconda3\\lib\\site-packages\\sklearn\\linear_model\\_logistic.py:762: ConvergenceWarning: lbfgs failed to converge (status=2):\n",
      "ABNORMAL_TERMINATION_IN_LNSRCH.\n",
      "\n",
      "Increase the number of iterations (max_iter) or scale the data as shown in:\n",
      "    https://scikit-learn.org/stable/modules/preprocessing.html\n",
      "Please also refer to the documentation for alternative solver options:\n",
      "    https://scikit-learn.org/stable/modules/linear_model.html#logistic-regression\n",
      "  n_iter_i = _check_optimize_result(\n",
      "C:\\Users\\ZeWu\\Anaconda3\\lib\\site-packages\\sklearn\\linear_model\\_logistic.py:762: ConvergenceWarning: lbfgs failed to converge (status=2):\n",
      "ABNORMAL_TERMINATION_IN_LNSRCH.\n",
      "\n",
      "Increase the number of iterations (max_iter) or scale the data as shown in:\n",
      "    https://scikit-learn.org/stable/modules/preprocessing.html\n",
      "Please also refer to the documentation for alternative solver options:\n",
      "    https://scikit-learn.org/stable/modules/linear_model.html#logistic-regression\n",
      "  n_iter_i = _check_optimize_result(\n",
      "C:\\Users\\ZeWu\\Anaconda3\\lib\\site-packages\\sklearn\\metrics\\_classification.py:1221: UndefinedMetricWarning: Precision is ill-defined and being set to 0.0 due to no predicted samples. Use `zero_division` parameter to control this behavior.\n",
      "  _warn_prf(average, modifier, msg_start, len(result))\n"
     ]
    },
    {
     "data": {
      "text/html": [
       "<div>\n",
       "<style scoped>\n",
       "    .dataframe tbody tr th:only-of-type {\n",
       "        vertical-align: middle;\n",
       "    }\n",
       "\n",
       "    .dataframe tbody tr th {\n",
       "        vertical-align: top;\n",
       "    }\n",
       "\n",
       "    .dataframe thead th {\n",
       "        text-align: right;\n",
       "    }\n",
       "</style>\n",
       "<table border=\"1\" class=\"dataframe\">\n",
       "  <thead>\n",
       "    <tr style=\"text-align: right;\">\n",
       "      <th></th>\n",
       "      <th>MLA Name</th>\n",
       "      <th>Precision</th>\n",
       "      <th>AUC</th>\n",
       "    </tr>\n",
       "  </thead>\n",
       "  <tbody>\n",
       "    <tr>\n",
       "      <th>4</th>\n",
       "      <td>RandomForestClassifier</td>\n",
       "      <td>0.967780</td>\n",
       "      <td>0.962710</td>\n",
       "    </tr>\n",
       "    <tr>\n",
       "      <th>3</th>\n",
       "      <td>DecisionTreeClassifier</td>\n",
       "      <td>0.958515</td>\n",
       "      <td>0.961991</td>\n",
       "    </tr>\n",
       "    <tr>\n",
       "      <th>1</th>\n",
       "      <td>GaussianNB</td>\n",
       "      <td>0.959159</td>\n",
       "      <td>0.840853</td>\n",
       "    </tr>\n",
       "    <tr>\n",
       "      <th>2</th>\n",
       "      <td>KNeighborsClassifier</td>\n",
       "      <td>0.870898</td>\n",
       "      <td>0.831823</td>\n",
       "    </tr>\n",
       "    <tr>\n",
       "      <th>0</th>\n",
       "      <td>LogisticRegressionCV</td>\n",
       "      <td>0.513337</td>\n",
       "      <td>0.508453</td>\n",
       "    </tr>\n",
       "    <tr>\n",
       "      <th>5</th>\n",
       "      <td>SVC</td>\n",
       "      <td>0.000000</td>\n",
       "      <td>0.500000</td>\n",
       "    </tr>\n",
       "  </tbody>\n",
       "</table>\n",
       "</div>"
      ],
      "text/plain": [
       "                 MLA Name  Precision       AUC\n",
       "4  RandomForestClassifier   0.967780  0.962710\n",
       "3  DecisionTreeClassifier   0.958515  0.961991\n",
       "1              GaussianNB   0.959159  0.840853\n",
       "2    KNeighborsClassifier   0.870898  0.831823\n",
       "0    LogisticRegressionCV   0.513337  0.508453\n",
       "5                     SVC   0.000000  0.500000"
      ]
     },
     "execution_count": 117,
     "metadata": {},
     "output_type": "execute_result"
    }
   ],
   "source": [
    "MLA_columns = []\n",
    "MLA_compare = pd.DataFrame(columns = MLA_columns)\n",
    "\n",
    "row_index = 0\n",
    "for alg in MLA:\n",
    "    predicted = alg.fit(X_train, y_train).predict(X_test)\n",
    "    fp, tp, th = roc_curve(y_test, predicted)\n",
    "    MLA_name = alg.__class__.__name__\n",
    "    MLA_compare.loc[row_index,'MLA Name'] = MLA_name\n",
    "    MLA_compare.loc[row_index, 'Precision'] = precision_score(y_test, predicted)\n",
    "    MLA_compare.loc[row_index, 'AUC'] = metrics.auc(fp, tp)\n",
    "    \n",
    "    row_index+=1\n",
    "MLA_compare.sort_values(by = ['AUC'], ascending = False, inplace = True)\n",
    "MLA_compare"
   ]
  },
  {
   "cell_type": "code",
   "execution_count": null,
   "metadata": {},
   "outputs": [],
   "source": []
  }
 ],
 "metadata": {
  "kernelspec": {
   "display_name": "Python 3",
   "language": "python",
   "name": "python3"
  },
  "language_info": {
   "codemirror_mode": {
    "name": "ipython",
    "version": 3
   },
   "file_extension": ".py",
   "mimetype": "text/x-python",
   "name": "python",
   "nbconvert_exporter": "python",
   "pygments_lexer": "ipython3",
   "version": "3.8.3"
  }
 },
 "nbformat": 4,
 "nbformat_minor": 2
}
